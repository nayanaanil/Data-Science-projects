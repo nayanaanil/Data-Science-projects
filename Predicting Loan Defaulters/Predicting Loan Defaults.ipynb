{
 "cells": [
  {
   "cell_type": "markdown",
   "metadata": {},
   "source": [
    "# Predicting Loan Defaulters\n",
    "\n",
    "#### Problem:\n",
    "In  the  CSV  file  that  accompanies  this  document  are  a  set  of  loans  issued  between October 2014 and September 2015.  The performance of these loans has beenobserved through October 2015.As of October 2015, each loan was marked (in the column loan status) as \"Current\", \"Fully Paid\", or \"Charged Off\".  \"Current\" means that the borrower is either on or ahead of schedule in terms of paying off his or her loan.  \"Fully Paid\" means that the loan has been entirely paid off.  \"Charged Off\" means that the borrower has stopped paying and defaulted on the loan. In addition to loan status, other variables included in the dataset are a unique member  id,  loan  amount,  interest  rate,  the  date  the  loan  was  issued,  lower  and upper endpoints of the range of the borrower's FICO score, annual income, and the date of the last payment that was made by the borrower.\n",
    " -  What is the relationship between FICO score and interest rate?\n",
    " -  What is the relationship between loan size and interest rate?\n",
    " -  Does it seem like the size of a loan and/or the borrower's FICO score are related to whether or not the loan ends up being charged off?  How might this relate to your answer to the previous question?\n",
    " -  What percentage of loans have been charged off as of October 2015?\n",
    " -  Some of the loans which are marked \"Current\" in October 2015 will endup being charged off before they are paid in full. Using the fact that all of these loans are 3 years in length, estimate the probability that a randomly chosen loan would eventually become charged off, possibly after October 2015. Be sure to explain any assumptions you make.\n",
    " \n",
    "This notebook has Tableau graph inserts. Every insert is interactive. Actions that can be performed with download of notebook are :\n",
    " - Zoom, pan, select using side toolbar\n",
    " - Filter using legend, if present\n",
    "\n",
    "### What is the relationship between FICO score and interest rate?\n",
    "\n",
    "The graph shows the relationship of FICO score and interest rate.\n",
    " \n",
    "![title](ficovsint1.png)\n",
    "\n",
    "Observations:\n",
    " -  There is a negative correlation between Fico score and interest rate. As the fico score increases, the rate of interest drops.\n",
    "\n",
    "### What is the relationship between loan size and interest rate?\n",
    "\n",
    "The graph shows the relationship between loan amount and interest rate.\n",
    "  \n",
    "![title](amtvsint.png)\n",
    "\n",
    "Observations:\n",
    " -  Interest rate band of 20% - 25%\n",
    "  -  Dense for loan amount below 10k, becomes less dense 10k to 20k and beyond 20k is very sparse.\n",
    " -  Interest rate band of 10% - 20%\n",
    "  -  Dense for loan upto 25k, and becomes sparse beyond that\n",
    " -  Interest rate band 5% - 10%\n",
    "  -  Less dense upto 5k, then dense from 5k to 15k. Becomes less dense after that, trailing off after 30k\n",
    "\n",
    "Now, lets introduce FICO score into the same graph. For readability, FICO has been binned, with bin size = 50."
   ]
  },
  {
   "cell_type": "code",
   "execution_count": 147,
   "metadata": {
    "collapsed": false,
    "scrolled": true
   },
   "outputs": [
    {
     "data": {
      "text/html": [
       "<div class='tableauPlaceholder' id='viz1511640852541' style='position: relative'><noscript><a href='#'><img alt='Loan Amt : Interest Rate&#47; FICO ' src='https:&#47;&#47;public.tableau.com&#47;static&#47;images&#47;KF&#47;KFTKGDRP8&#47;1_rss.png' style='border: none' /></a></noscript><object class='tableauViz'  style='display:none;'><param name='host_url' value='https%3A%2F%2Fpublic.tableau.com%2F' /> <param name='embed_code_version' value='3' /> <param name='path' value='shared&#47;KFTKGDRP8' /> <param name='toolbar' value='yes' /><param name='static_image' value='https:&#47;&#47;public.tableau.com&#47;static&#47;images&#47;KF&#47;KFTKGDRP8&#47;1.png' /> <param name='animate_transition' value='yes' /><param name='display_static_image' value='yes' /><param name='display_spinner' value='yes' /><param name='display_overlay' value='yes' /><param name='display_count' value='yes' /><param name='filter' value='publish=yes' /></object></div>                <script type='text/javascript'>                    var divElement = document.getElementById('viz1511640852541');                    var vizElement = divElement.getElementsByTagName('object')[0];                    vizElement.style.width='100%';vizElement.style.height=(divElement.offsetWidth*0.60)+'px';                    var scriptElement = document.createElement('script');                    scriptElement.src = 'https://public.tableau.com/javascripts/api/viz_v1.js';                    vizElement.parentNode.insertBefore(scriptElement, vizElement);                </script>"
      ],
      "text/plain": [
       "<IPython.core.display.HTML object>"
      ]
     },
     "metadata": {},
     "output_type": "display_data"
    }
   ],
   "source": [
    "%%HTML\n",
    "<div class='tableauPlaceholder' id='viz1511640852541' style='position: relative'><noscript><a href='#'><img alt='Loan Amt : Interest Rate&#47; FICO ' src='https:&#47;&#47;public.tableau.com&#47;static&#47;images&#47;KF&#47;KFTKGDRP8&#47;1_rss.png' style='border: none' /></a></noscript><object class='tableauViz'  style='display:none;'><param name='host_url' value='https%3A%2F%2Fpublic.tableau.com%2F' /> <param name='embed_code_version' value='3' /> <param name='path' value='shared&#47;KFTKGDRP8' /> <param name='toolbar' value='yes' /><param name='static_image' value='https:&#47;&#47;public.tableau.com&#47;static&#47;images&#47;KF&#47;KFTKGDRP8&#47;1.png' /> <param name='animate_transition' value='yes' /><param name='display_static_image' value='yes' /><param name='display_spinner' value='yes' /><param name='display_overlay' value='yes' /><param name='display_count' value='yes' /><param name='filter' value='publish=yes' /></object></div>                <script type='text/javascript'>                    var divElement = document.getElementById('viz1511640852541');                    var vizElement = divElement.getElementsByTagName('object')[0];                    vizElement.style.width='100%';vizElement.style.height=(divElement.offsetWidth*0.60)+'px';                    var scriptElement = document.createElement('script');                    scriptElement.src = 'https://public.tableau.com/javascripts/api/viz_v1.js';                    vizElement.parentNode.insertBefore(scriptElement, vizElement);                </script>"
   ]
  },
  {
   "cell_type": "markdown",
   "metadata": {},
   "source": [
    "The above is a plot of Loan amount vs Interest rates, based on FICO scores.\n",
    "Clicking on the legend (Avg fico(bin)) will filter data points for each bin. \n",
    "\n",
    "Not surprising that a borrower's FICO score affects the relationship between loan amount and interest rate.\n",
    "Observations:\n",
    " -  Increase in FICO sees a decrease in number of loans. Low FICO scorers borrow many more loans than high FICO scorers.\n",
    " -  Increase in FICO also sees a decrease in the interest rate. Irrespective of loan amount, the high FICO borrowers get awarded a low interest rate.\n",
    " -  Lower FICO borrowers are majorly awarded lower amount loans with higher interest rates.\n",
    " \n",
    " \n",
    "### Does it seem like the size of a loan and/or the borrower's FICO score are related to whether or not the loan ends up being charged off?  How might this relate to your answer to the previous question?\n",
    "\n",
    "Lets first look at the relationship of Loan Amount to Loan Status. We need to find if the loan amount influences the charge off ratio. To do this, we first bin the loan amounts into $5k bins each. Then we find the ratio of the count(loans that charged off)/count(all loans) for each bin. The same calculation has been repated for the sum of loan amounts in each bin.\n",
    "\n",
    "![title](percentsChargeOff.png)\n",
    "\n",
    "\n",
    "Observations:\n",
    " -  The ratio seems to be almost constant over all bins\n",
    " -  Even though a small difference, the ratio of charged off loans drops consistently, and is lowest at $20k loans before increasing again.\n",
    " -  Interestingly very low amount and very high amount loans have the same percentage of getting charged off.\n",
    "\n",
    "Now, lets's examine the relationship between FICO score and Loan Status. Using the same graph as above, we now factored in the FICO score of borrowers. \n"
   ]
  },
  {
   "cell_type": "code",
   "execution_count": 148,
   "metadata": {
    "collapsed": false,
    "scrolled": true
   },
   "outputs": [
    {
     "data": {
      "text/html": [
       "<div class='tableauPlaceholder' id='viz1511677529070' style='position: relative'><noscript><a href='#'><img alt='% Charged Off : FICO ' src='https:&#47;&#47;public.tableau.com&#47;static&#47;images&#47;Up&#47;UpstartChallenge&#47;ChargedOffFICO&#47;1_rss.png' style='border: none' /></a></noscript><object class='tableauViz'  style='display:none;'><param name='host_url' value='https%3A%2F%2Fpublic.tableau.com%2F' /> <param name='embed_code_version' value='3' /> <param name='site_root' value='' /><param name='name' value='UpstartChallenge&#47;ChargedOffFICO' /><param name='tabs' value='no' /><param name='toolbar' value='yes' /><param name='static_image' value='https:&#47;&#47;public.tableau.com&#47;static&#47;images&#47;Up&#47;UpstartChallenge&#47;ChargedOffFICO&#47;1.png' /> <param name='animate_transition' value='yes' /><param name='display_static_image' value='yes' /><param name='display_spinner' value='yes' /><param name='display_overlay' value='yes' /><param name='display_count' value='yes' /><param name='filter' value='publish=yes' /></object></div>                <script type='text/javascript'>                    var divElement = document.getElementById('viz1511677529070');                    var vizElement = divElement.getElementsByTagName('object')[0];                    vizElement.style.width='100%';vizElement.style.height=(divElement.offsetWidth*0.75)+'px';                    var scriptElement = document.createElement('script');                    scriptElement.src = 'https://public.tableau.com/javascripts/api/viz_v1.js';                    vizElement.parentNode.insertBefore(scriptElement, vizElement);                </script>"
      ],
      "text/plain": [
       "<IPython.core.display.HTML object>"
      ]
     },
     "metadata": {},
     "output_type": "display_data"
    }
   ],
   "source": [
    "%%HTML\n",
    "<div class='tableauPlaceholder' id='viz1511677529070' style='position: relative'><noscript><a href='#'><img alt='% Charged Off : FICO ' src='https:&#47;&#47;public.tableau.com&#47;static&#47;images&#47;Up&#47;UpstartChallenge&#47;ChargedOffFICO&#47;1_rss.png' style='border: none' /></a></noscript><object class='tableauViz'  style='display:none;'><param name='host_url' value='https%3A%2F%2Fpublic.tableau.com%2F' /> <param name='embed_code_version' value='3' /> <param name='site_root' value='' /><param name='name' value='UpstartChallenge&#47;ChargedOffFICO' /><param name='tabs' value='no' /><param name='toolbar' value='yes' /><param name='static_image' value='https:&#47;&#47;public.tableau.com&#47;static&#47;images&#47;Up&#47;UpstartChallenge&#47;ChargedOffFICO&#47;1.png' /> <param name='animate_transition' value='yes' /><param name='display_static_image' value='yes' /><param name='display_spinner' value='yes' /><param name='display_overlay' value='yes' /><param name='display_count' value='yes' /><param name='filter' value='publish=yes' /></object></div>                <script type='text/javascript'>                    var divElement = document.getElementById('viz1511677529070');                    var vizElement = divElement.getElementsByTagName('object')[0];                    vizElement.style.width='100%';vizElement.style.height=(divElement.offsetWidth*0.75)+'px';                    var scriptElement = document.createElement('script');                    scriptElement.src = 'https://public.tableau.com/javascripts/api/viz_v1.js';                    vizElement.parentNode.insertBefore(scriptElement, vizElement);                </script>"
   ]
  },
  {
   "cell_type": "markdown",
   "metadata": {},
   "source": [
    "Observations:\n",
    " -  Borrowers with FICO score 850+  default 33.3% of the time on loans valued \\$15k-\\$20k, but charge off 0% of the time on other loans\n",
    " -  Borrowers with FICO score 750-800 default the least\n",
    " -  As FICO score increases, percentage of charge offs decrease, except for anomaly just observed\n",
    " \n",
    "The data seems to show that every 1 in 3 borrowers with FICO 850+ will charge off!! Its very interesting that high FICO scorers would have high charge off rates, especially for just one bracket of loan amount. However, there seems to be no other data to support the same. Upon closer inspection of the data, I found that the number of FICO 850+ borrowers who borrowed loans between 15k and 20k are 3 in number, and 1 loan charged off.\n",
    " \n",
    "Obviously, this is too small a set to make any conclusions, and so the previous inference can be discarded. For a clearer picture, I plotted the FICO score bins with the count of loans that were charged off. Click on the legend to display only the charged off loans.\n"
   ]
  },
  {
   "cell_type": "code",
   "execution_count": 149,
   "metadata": {
    "collapsed": false
   },
   "outputs": [
    {
     "data": {
      "text/html": [
       "<div class='tableauPlaceholder' id='viz1511679526430' style='position: relative'><noscript><a href='#'><img alt='FICO : Loan Status ' src='https:&#47;&#47;public.tableau.com&#47;static&#47;images&#47;Up&#47;UpstartChallenge&#47;FICOLoanStatus&#47;1_rss.png' style='border: none' /></a></noscript><object class='tableauViz'  style='display:none;'><param name='host_url' value='https%3A%2F%2Fpublic.tableau.com%2F' /> <param name='embed_code_version' value='3' /> <param name='site_root' value='' /><param name='name' value='UpstartChallenge&#47;FICOLoanStatus' /><param name='tabs' value='no' /><param name='toolbar' value='yes' /><param name='static_image' value='https:&#47;&#47;public.tableau.com&#47;static&#47;images&#47;Up&#47;UpstartChallenge&#47;FICOLoanStatus&#47;1.png' /> <param name='animate_transition' value='yes' /><param name='display_static_image' value='yes' /><param name='display_spinner' value='yes' /><param name='display_overlay' value='yes' /><param name='display_count' value='yes' /><param name='filter' value='publish=yes' /></object></div>                <script type='text/javascript'>                    var divElement = document.getElementById('viz1511679526430');                    var vizElement = divElement.getElementsByTagName('object')[0];                    vizElement.style.width='100%';vizElement.style.height=(divElement.offsetWidth*0.60)+'px';                    var scriptElement = document.createElement('script');                    scriptElement.src = 'https://public.tableau.com/javascripts/api/viz_v1.js';                    vizElement.parentNode.insertBefore(scriptElement, vizElement);                </script>"
      ],
      "text/plain": [
       "<IPython.core.display.HTML object>"
      ]
     },
     "metadata": {},
     "output_type": "display_data"
    }
   ],
   "source": [
    "%%HTML\n",
    "<div class='tableauPlaceholder' id='viz1511679526430' style='position: relative'><noscript><a href='#'><img alt='FICO : Loan Status ' src='https:&#47;&#47;public.tableau.com&#47;static&#47;images&#47;Up&#47;UpstartChallenge&#47;FICOLoanStatus&#47;1_rss.png' style='border: none' /></a></noscript><object class='tableauViz'  style='display:none;'><param name='host_url' value='https%3A%2F%2Fpublic.tableau.com%2F' /> <param name='embed_code_version' value='3' /> <param name='site_root' value='' /><param name='name' value='UpstartChallenge&#47;FICOLoanStatus' /><param name='tabs' value='no' /><param name='toolbar' value='yes' /><param name='static_image' value='https:&#47;&#47;public.tableau.com&#47;static&#47;images&#47;Up&#47;UpstartChallenge&#47;FICOLoanStatus&#47;1.png' /> <param name='animate_transition' value='yes' /><param name='display_static_image' value='yes' /><param name='display_spinner' value='yes' /><param name='display_overlay' value='yes' /><param name='display_count' value='yes' /><param name='filter' value='publish=yes' /></object></div>                <script type='text/javascript'>                    var divElement = document.getElementById('viz1511679526430');                    var vizElement = divElement.getElementsByTagName('object')[0];                    vizElement.style.width='100%';vizElement.style.height=(divElement.offsetWidth*0.60)+'px';                    var scriptElement = document.createElement('script');                    scriptElement.src = 'https://public.tableau.com/javascripts/api/viz_v1.js';                    vizElement.parentNode.insertBefore(scriptElement, vizElement);                </script>"
   ]
  },
  {
   "cell_type": "markdown",
   "metadata": {},
   "source": [
    "\n",
    "Observations:\n",
    " -  As FICO score increases, number of charged off loans decreases drastically, trailing off to close to 0 around 750+ FICO scores.\n",
    "\n",
    "However, it still holds that the dataset is too small to make a solid conclusion.\n",
    " \n",
    "### What percentage of loans have been charged off as of October 2015?\n",
    "The total number of loans present in October 2015 are 221,043. 7 loans were charged off. Thats 0.003%.\n",
    "\n",
    "### Some of the loans which are marked \"Current\" in October 2015 will endup being charged off before they are paid in full.  Using the fact that all of these loans are 3 years in length, estimate the probability that a randomly chosen loan would eventually become charged off,  possibly after October 2015.  Be sure to explain any assumptions you make."
   ]
  },
  {
   "cell_type": "code",
   "execution_count": 164,
   "metadata": {
    "collapsed": false
   },
   "outputs": [
    {
     "data": {
      "text/html": [
       "<script>\n",
       "code_show_err=false; \n",
       "function code_toggle_err() {\n",
       " if (code_show_err){\n",
       " $('div.output_stderr').hide();\n",
       " } else {\n",
       " $('div.output_stderr').show();\n",
       " }\n",
       " code_show_err = !code_show_err\n",
       "} \n",
       "$( document ).ready(code_toggle_err);\n",
       "</script>\n",
       "To toggle on/off output_stderr, click <a href=\"javascript:code_toggle_err()\">here</a>."
      ],
      "text/plain": [
       "<IPython.core.display.HTML object>"
      ]
     },
     "execution_count": 164,
     "metadata": {},
     "output_type": "execute_result"
    }
   ],
   "source": [
    "# To toggle warnings on and off\n",
    "from IPython.display import HTML\n",
    "HTML('''<script>\n",
    "code_show_err=false; \n",
    "function code_toggle_err() {\n",
    " if (code_show_err){\n",
    " $('div.output_stderr').hide();\n",
    " } else {\n",
    " $('div.output_stderr').show();\n",
    " }\n",
    " code_show_err = !code_show_err\n",
    "} \n",
    "$( document ).ready(code_toggle_err);\n",
    "</script>\n",
    "To toggle on/off output_stderr, click <a href=\"javascript:code_toggle_err()\">here</a>.''')"
   ]
  },
  {
   "cell_type": "code",
   "execution_count": 172,
   "metadata": {
    "collapsed": false
   },
   "outputs": [
    {
     "name": "stdout",
     "output_type": "stream",
     "text": [
      "Index(['member_id', 'loan_amnt', 'int_rate', 'issue_d', 'loan_status',\n",
      "       'fico_range_low', 'fico_range_high', 'annual_inc', 'last_pymnt_d'],\n",
      "      dtype='object')\n"
     ]
    },
    {
     "data": {
      "text/html": [
       "<div>\n",
       "<table border=\"1\" class=\"dataframe\">\n",
       "  <thead>\n",
       "    <tr style=\"text-align: right;\">\n",
       "      <th></th>\n",
       "      <th>member_id</th>\n",
       "      <th>loan_amnt</th>\n",
       "      <th>int_rate</th>\n",
       "      <th>issue_d</th>\n",
       "      <th>loan_status</th>\n",
       "      <th>fico_range_low</th>\n",
       "      <th>fico_range_high</th>\n",
       "      <th>annual_inc</th>\n",
       "      <th>last_pymnt_d</th>\n",
       "    </tr>\n",
       "  </thead>\n",
       "  <tbody>\n",
       "    <tr>\n",
       "      <th>0</th>\n",
       "      <td>35784929</td>\n",
       "      <td>18000</td>\n",
       "      <td>0.0917</td>\n",
       "      <td>2014-10-01</td>\n",
       "      <td>Fully Paid</td>\n",
       "      <td>700</td>\n",
       "      <td>704</td>\n",
       "      <td>150000.0</td>\n",
       "      <td>2015-10-01</td>\n",
       "    </tr>\n",
       "    <tr>\n",
       "      <th>1</th>\n",
       "      <td>35914827</td>\n",
       "      <td>14000</td>\n",
       "      <td>0.1167</td>\n",
       "      <td>2014-10-01</td>\n",
       "      <td>Current</td>\n",
       "      <td>670</td>\n",
       "      <td>674</td>\n",
       "      <td>135000.0</td>\n",
       "      <td>2015-10-01</td>\n",
       "    </tr>\n",
       "    <tr>\n",
       "      <th>2</th>\n",
       "      <td>35985086</td>\n",
       "      <td>8400</td>\n",
       "      <td>0.0917</td>\n",
       "      <td>2014-10-01</td>\n",
       "      <td>Current</td>\n",
       "      <td>665</td>\n",
       "      <td>669</td>\n",
       "      <td>75000.0</td>\n",
       "      <td>2015-10-01</td>\n",
       "    </tr>\n",
       "    <tr>\n",
       "      <th>3</th>\n",
       "      <td>35945193</td>\n",
       "      <td>10000</td>\n",
       "      <td>0.0769</td>\n",
       "      <td>2014-10-01</td>\n",
       "      <td>Current</td>\n",
       "      <td>730</td>\n",
       "      <td>734</td>\n",
       "      <td>94000.0</td>\n",
       "      <td>2015-10-01</td>\n",
       "    </tr>\n",
       "    <tr>\n",
       "      <th>4</th>\n",
       "      <td>35754571</td>\n",
       "      <td>2000</td>\n",
       "      <td>0.1299</td>\n",
       "      <td>2014-10-01</td>\n",
       "      <td>Current</td>\n",
       "      <td>680</td>\n",
       "      <td>684</td>\n",
       "      <td>150000.0</td>\n",
       "      <td>2015-10-01</td>\n",
       "    </tr>\n",
       "  </tbody>\n",
       "</table>\n",
       "</div>"
      ],
      "text/plain": [
       "   member_id  loan_amnt  int_rate    issue_d loan_status  fico_range_low  \\\n",
       "0   35784929      18000    0.0917 2014-10-01  Fully Paid             700   \n",
       "1   35914827      14000    0.1167 2014-10-01     Current             670   \n",
       "2   35985086       8400    0.0917 2014-10-01     Current             665   \n",
       "3   35945193      10000    0.0769 2014-10-01     Current             730   \n",
       "4   35754571       2000    0.1299 2014-10-01     Current             680   \n",
       "\n",
       "   fico_range_high  annual_inc last_pymnt_d  \n",
       "0              704    150000.0   2015-10-01  \n",
       "1              674    135000.0   2015-10-01  \n",
       "2              669     75000.0   2015-10-01  \n",
       "3              734     94000.0   2015-10-01  \n",
       "4              684    150000.0   2015-10-01  "
      ]
     },
     "execution_count": 172,
     "metadata": {},
     "output_type": "execute_result"
    }
   ],
   "source": [
    "#import libraries\n",
    "import pandas as pd\n",
    "import numpy as np\n",
    "import seaborn as sns\n",
    "from sklearn.preprocessing import StandardScaler\n",
    "from sklearn.cross_validation import train_test_split\n",
    "from sklearn.ensemble import RandomForestClassifier\n",
    "from sklearn import neighbors, linear_model\n",
    "from sklearn.linear_model import LogisticRegression\n",
    "from sklearn import metrics\n",
    "import matplotlib.pyplot as plt\n",
    "from sklearn.metrics import precision_recall_curve,average_precision_score\n",
    "from sklearn.metrics import confusion_matrix, classification_report\n",
    "import sklearn\n",
    "from imblearn.over_sampling import SMOTE \n",
    "\n",
    "#import the data\n",
    "loan_data = pd.read_excel('upstartloan_data.xlsx')\n",
    "print(loan_data.columns)\n",
    "loan_data.head()"
   ]
  },
  {
   "cell_type": "markdown",
   "metadata": {},
   "source": [
    "The data consists of features that will not help the model predict with accuracy. We need to remove those columns that contain irrelevant data or data that sees into the future. So, we need to drop the following columns for training:\n",
    " -  member_id (irrelevant)\n",
    " -  issue_date (not enough data to make conclusive observations)\n",
    " -  last_pymnt_d (sees into the future)\n",
    " \n",
    "However, we will initially hold the 'last_pymnt_d' column, to create the data on which final predictions need to be made later.\n",
    "\n",
    "Also, we have two columns of FICO ranges for each borrower. We take the average of both to reduce redundancy in information.\n",
    "The 'last_pymnt_d' column needs to be parsed into usable information - the month and year have been extracted."
   ]
  },
  {
   "cell_type": "code",
   "execution_count": 173,
   "metadata": {
    "collapsed": false
   },
   "outputs": [
    {
     "data": {
      "text/html": [
       "<div>\n",
       "<table border=\"1\" class=\"dataframe\">\n",
       "  <thead>\n",
       "    <tr style=\"text-align: right;\">\n",
       "      <th></th>\n",
       "      <th>loan_amnt</th>\n",
       "      <th>int_rate</th>\n",
       "      <th>annual_inc</th>\n",
       "      <th>loan_status</th>\n",
       "      <th>avg Fico</th>\n",
       "      <th>month</th>\n",
       "      <th>year</th>\n",
       "    </tr>\n",
       "  </thead>\n",
       "  <tbody>\n",
       "    <tr>\n",
       "      <th>0</th>\n",
       "      <td>18000</td>\n",
       "      <td>0.0917</td>\n",
       "      <td>150000.0</td>\n",
       "      <td>Fully Paid</td>\n",
       "      <td>702.0</td>\n",
       "      <td>10.0</td>\n",
       "      <td>2015.0</td>\n",
       "    </tr>\n",
       "    <tr>\n",
       "      <th>1</th>\n",
       "      <td>14000</td>\n",
       "      <td>0.1167</td>\n",
       "      <td>135000.0</td>\n",
       "      <td>Current</td>\n",
       "      <td>672.0</td>\n",
       "      <td>10.0</td>\n",
       "      <td>2015.0</td>\n",
       "    </tr>\n",
       "    <tr>\n",
       "      <th>2</th>\n",
       "      <td>8400</td>\n",
       "      <td>0.0917</td>\n",
       "      <td>75000.0</td>\n",
       "      <td>Current</td>\n",
       "      <td>667.0</td>\n",
       "      <td>10.0</td>\n",
       "      <td>2015.0</td>\n",
       "    </tr>\n",
       "    <tr>\n",
       "      <th>3</th>\n",
       "      <td>10000</td>\n",
       "      <td>0.0769</td>\n",
       "      <td>94000.0</td>\n",
       "      <td>Current</td>\n",
       "      <td>732.0</td>\n",
       "      <td>10.0</td>\n",
       "      <td>2015.0</td>\n",
       "    </tr>\n",
       "    <tr>\n",
       "      <th>4</th>\n",
       "      <td>2000</td>\n",
       "      <td>0.1299</td>\n",
       "      <td>150000.0</td>\n",
       "      <td>Current</td>\n",
       "      <td>682.0</td>\n",
       "      <td>10.0</td>\n",
       "      <td>2015.0</td>\n",
       "    </tr>\n",
       "  </tbody>\n",
       "</table>\n",
       "</div>"
      ],
      "text/plain": [
       "   loan_amnt  int_rate  annual_inc loan_status  avg Fico  month    year\n",
       "0      18000    0.0917    150000.0  Fully Paid     702.0   10.0  2015.0\n",
       "1      14000    0.1167    135000.0     Current     672.0   10.0  2015.0\n",
       "2       8400    0.0917     75000.0     Current     667.0   10.0  2015.0\n",
       "3      10000    0.0769     94000.0     Current     732.0   10.0  2015.0\n",
       "4       2000    0.1299    150000.0     Current     682.0   10.0  2015.0"
      ]
     },
     "execution_count": 173,
     "metadata": {},
     "output_type": "execute_result"
    }
   ],
   "source": [
    "# For accurate prediction, we filter out columns that are irrelevant or see into the future\n",
    "loan_data = loan_data[['loan_amnt', 'int_rate',\n",
    "       'fico_range_low', 'fico_range_high', 'annual_inc', 'last_pymnt_d', 'loan_status']]\n",
    "\n",
    "# Combine high and low FICO scores into an average score and drop original columns\n",
    "loan_data['avg Fico'] = (loan_data['fico_range_low'] + loan_data['fico_range_high'])/2\n",
    "loan_data['month'] = [loan_data['last_pymnt_d'][i].month for i in range(len(loan_data['last_pymnt_d']))] \n",
    "loan_data['year'] = [loan_data['last_pymnt_d'][i].year for i in range(len(loan_data['last_pymnt_d']))] \n",
    "\n",
    "cols_to_drop = ['fico_range_low','fico_range_high', 'last_pymnt_d']\n",
    "loan_data.drop(cols_to_drop,axis = 1, inplace=True)\n",
    "loan_data.head()"
   ]
  },
  {
   "cell_type": "markdown",
   "metadata": {},
   "source": [
    "Let's examine the number of records of each loan status. This will give us an idea of the data we can work with."
   ]
  },
  {
   "cell_type": "code",
   "execution_count": 174,
   "metadata": {
    "collapsed": false
   },
   "outputs": [
    {
     "data": {
      "text/plain": [
       "Current        220879\n",
       "Fully Paid      16484\n",
       "Charged Off      1683\n",
       "Name: loan_status, dtype: int64"
      ]
     },
     "execution_count": 174,
     "metadata": {},
     "output_type": "execute_result"
    }
   ],
   "source": [
    "loan_data['loan_status'].value_counts()"
   ]
  },
  {
   "cell_type": "markdown",
   "metadata": {},
   "source": [
    "So we see that 220k loans are 'Current', 16k are 'Fully Paid' and 1.6k are 'Charged off'. Our ultimate goal is to predict which loans will be fully paid and which ones will be charged off. That means that we need to train our model only on records that have loan_status either 'Fully Paid' or 'Charged Off'. The 'Current' loans will not help us predict this, as they give no usable information. So we eliminate these records from the dataset."
   ]
  },
  {
   "cell_type": "code",
   "execution_count": 175,
   "metadata": {
    "collapsed": false
   },
   "outputs": [
    {
     "name": "stdout",
     "output_type": "stream",
     "text": [
      "Fully Paid     16484\n",
      "Charged Off     1683\n",
      "Name: loan_status, dtype: int64\n",
      "<class 'pandas.core.frame.DataFrame'>\n",
      "RangeIndex: 18167 entries, 0 to 18166\n",
      "Data columns (total 5 columns):\n",
      "loan_amnt      18167 non-null int64\n",
      "int_rate       18167 non-null float64\n",
      "annual_inc     18167 non-null float64\n",
      "loan_status    18167 non-null object\n",
      "avg Fico       18167 non-null float64\n",
      "dtypes: float64(3), int64(1), object(1)\n",
      "memory usage: 709.7+ KB\n"
     ]
    },
    {
     "name": "stderr",
     "output_type": "stream",
     "text": [
      "C:\\Users\\msnay\\Anaconda3\\lib\\site-packages\\ipykernel\\__main__.py:5: SettingWithCopyWarning: \n",
      "A value is trying to be set on a copy of a slice from a DataFrame\n",
      "\n",
      "See the caveats in the documentation: http://pandas.pydata.org/pandas-docs/stable/indexing.html#indexing-view-versus-copy\n",
      "C:\\Users\\msnay\\Anaconda3\\lib\\site-packages\\ipykernel\\__main__.py:6: SettingWithCopyWarning: \n",
      "A value is trying to be set on a copy of a slice from a DataFrame\n",
      "\n",
      "See the caveats in the documentation: http://pandas.pydata.org/pandas-docs/stable/indexing.html#indexing-view-versus-copy\n",
      "C:\\Users\\msnay\\Anaconda3\\lib\\site-packages\\ipykernel\\__main__.py:7: SettingWithCopyWarning: \n",
      "A value is trying to be set on a copy of a slice from a DataFrame\n",
      "\n",
      "See the caveats in the documentation: http://pandas.pydata.org/pandas-docs/stable/indexing.html#indexing-view-versus-copy\n"
     ]
    }
   ],
   "source": [
    "# TRAINING DATA\n",
    "# Filtering data to get only those loans that are either 'Fully Paid' or 'Charged off'\n",
    "loan = loan_data[(loan_data['loan_status'] == 'Fully Paid') | (loan_data['loan_status'] == 'Charged Off')]\n",
    "loan.reset_index(inplace=True)\n",
    "loan.drop('index', axis=1, inplace=True)\n",
    "loan.drop('month', axis=1, inplace=True)\n",
    "loan.drop('year', axis=1, inplace=True)\n",
    "\n",
    "#Info about the dataset\n",
    "print(loan['loan_status'].value_counts())\n",
    "loan.info()"
   ]
  },
  {
   "cell_type": "markdown",
   "metadata": {},
   "source": [
    "Simultaneously, we create the data that has to be finally predicted upon. This data contains loans that are 'Current' as of October 2015. "
   ]
  },
  {
   "cell_type": "code",
   "execution_count": 176,
   "metadata": {
    "collapsed": false
   },
   "outputs": [
    {
     "name": "stderr",
     "output_type": "stream",
     "text": [
      "C:\\Users\\msnay\\Anaconda3\\lib\\site-packages\\ipykernel\\__main__.py:5: SettingWithCopyWarning: \n",
      "A value is trying to be set on a copy of a slice from a DataFrame\n",
      "\n",
      "See the caveats in the documentation: http://pandas.pydata.org/pandas-docs/stable/indexing.html#indexing-view-versus-copy\n",
      "C:\\Users\\msnay\\Anaconda3\\lib\\site-packages\\ipykernel\\__main__.py:6: SettingWithCopyWarning: \n",
      "A value is trying to be set on a copy of a slice from a DataFrame\n",
      "\n",
      "See the caveats in the documentation: http://pandas.pydata.org/pandas-docs/stable/indexing.html#indexing-view-versus-copy\n",
      "C:\\Users\\msnay\\Anaconda3\\lib\\site-packages\\ipykernel\\__main__.py:7: SettingWithCopyWarning: \n",
      "A value is trying to be set on a copy of a slice from a DataFrame\n",
      "\n",
      "See the caveats in the documentation: http://pandas.pydata.org/pandas-docs/stable/indexing.html#indexing-view-versus-copy\n",
      "C:\\Users\\msnay\\Anaconda3\\lib\\site-packages\\ipykernel\\__main__.py:8: SettingWithCopyWarning: \n",
      "A value is trying to be set on a copy of a slice from a DataFrame\n",
      "\n",
      "See the caveats in the documentation: http://pandas.pydata.org/pandas-docs/stable/indexing.html#indexing-view-versus-copy\n"
     ]
    },
    {
     "name": "stdout",
     "output_type": "stream",
     "text": [
      "<class 'pandas.core.frame.DataFrame'>\n",
      "RangeIndex: 219243 entries, 0 to 219242\n",
      "Data columns (total 4 columns):\n",
      "loan_amnt     219243 non-null int64\n",
      "int_rate      219243 non-null float64\n",
      "annual_inc    219243 non-null float64\n",
      "avg Fico      219243 non-null float64\n",
      "dtypes: float64(3), int64(1)\n",
      "memory usage: 6.7 MB\n",
      "None\n",
      "   loan_amnt  int_rate  annual_inc  avg Fico\n",
      "0      14000    0.1167    135000.0     672.0\n",
      "1       8400    0.0917     75000.0     667.0\n",
      "2      10000    0.0769     94000.0     732.0\n",
      "3       2000    0.1299    150000.0     682.0\n",
      "4       6000    0.0917     60000.0     727.0\n"
     ]
    }
   ],
   "source": [
    "# TEST DATA\n",
    "# Filtering data to get only those loans that are 'Current' as of October 2015\n",
    "to_predict = loan_data[(loan_data['loan_status'] == 'Current') & (loan_data['month'] == 10) & (loan_data['year'] == 2015)]\n",
    "to_predict.reset_index(inplace=True)\n",
    "to_predict.drop('index', axis=1, inplace=True)\n",
    "to_predict.drop('month', axis=1, inplace=True)\n",
    "to_predict.drop('year', axis=1, inplace=True)\n",
    "to_predict.drop('loan_status', axis=1, inplace=True)\n",
    "\n",
    "print(to_predict.info())\n",
    "print(to_predict.head())"
   ]
  },
  {
   "cell_type": "code",
   "execution_count": 177,
   "metadata": {
    "collapsed": false
   },
   "outputs": [],
   "source": [
    "# TRAINING DATA\n",
    "# We want to replace the loan status objects with numbers that denote the same information. We map Fully Paid to 0 and\n",
    "# Charged Off to 1.\n",
    "mapping_dictionary = {\"loan_status\":{ \"Fully Paid\": 0, \"Charged Off\": 1}}\n",
    "loan = loan.replace(mapping_dictionary)\n",
    "loan.head()\n",
    "\n",
    "#shuffle the data to minimize over/underfitting\n",
    "loan = loan.sample(frac=1).reset_index(drop=True)"
   ]
  },
  {
   "cell_type": "code",
   "execution_count": 178,
   "metadata": {
    "collapsed": false
   },
   "outputs": [
    {
     "name": "stdout",
     "output_type": "stream",
     "text": [
      "Count of 'Fully Paid' loans : \n",
      "13204\n",
      "Count of 'Charged Off' loans : \n",
      "1329\n"
     ]
    }
   ],
   "source": [
    "# TRAINING DATA\n",
    "# Divide data into features and target\n",
    "Xs = loan.drop('loan_status', 1).values\n",
    "y = loan['loan_status'].values\n",
    "\n",
    "# Generate training and test sets\n",
    "Xs_train, Xs_test, y_train, y_test = train_test_split(Xs, y, test_size=0.2, random_state=42)\n",
    "\n",
    "# Scale the data\n",
    "sc = StandardScaler()\n",
    "Xs_train = sc.fit_transform(Xs_train)\n",
    "Xs_test = sc.transform(Xs_test)\n",
    "\n",
    "print(\"Count of 'Fully Paid' loans : \")\n",
    "print(np.bincount(y_train)[0])\n",
    "\n",
    "print(\"Count of 'Charged Off' loans : \")\n",
    "print(np.bincount(y_train)[1])"
   ]
  },
  {
   "cell_type": "code",
   "execution_count": 179,
   "metadata": {
    "collapsed": false
   },
   "outputs": [],
   "source": [
    "# TEST DATA\n",
    "to_predict_ori = to_predict\n",
    "\n",
    "# Scale the data to be predicted upon\n",
    "to_predict = sc.transform(to_predict)"
   ]
  },
  {
   "cell_type": "markdown",
   "metadata": {},
   "source": [
    "Having engineered the features and divided the data into a training and testing set, we now apply the model. First we feed the training set into a Random Forest classifier, and print the scores."
   ]
  },
  {
   "cell_type": "code",
   "execution_count": 180,
   "metadata": {
    "collapsed": false
   },
   "outputs": [
    {
     "name": "stdout",
     "output_type": "stream",
     "text": [
      "Test score: 0.90\n",
      "Confusion matrix:\n",
      "[[3253   27]\n",
      " [ 342   12]]\n",
      "Classification report for Random Forest classifier RandomForestClassifier(bootstrap=True, class_weight=None, criterion='gini',\n",
      "            max_depth=None, max_features='auto', max_leaf_nodes=None,\n",
      "            min_impurity_decrease=0.0, min_impurity_split=None,\n",
      "            min_samples_leaf=1, min_samples_split=2,\n",
      "            min_weight_fraction_leaf=0.0, n_estimators=500, n_jobs=1,\n",
      "            oob_score=False, random_state=None, verbose=0,\n",
      "            warm_start=False):\n",
      "             precision    recall  f1-score   support\n",
      "\n",
      "          0       0.90      0.99      0.95      3280\n",
      "          1       0.31      0.03      0.06       354\n",
      "\n",
      "avg / total       0.85      0.90      0.86      3634\n",
      "\n",
      "\n"
     ]
    }
   ],
   "source": [
    "#Using a Random Forest classifier to predict loan status\n",
    "RF = RandomForestClassifier(n_estimators=500)\n",
    "RF.fit(Xs_train, y_train)\n",
    "y_pred = RF.predict(Xs_test)\n",
    "print('Test score: {:.2f}'.format(RF.score(Xs_test, y_test)))\n",
    "print(\"Confusion matrix:\\n%s\" % confusion_matrix(y_test, y_pred))\n",
    "print(\"Classification report for Random Forest classifier %s:\\n%s\\n\"\n",
    "      % (RF, classification_report(y_test, y_pred)))"
   ]
  },
  {
   "cell_type": "markdown",
   "metadata": {},
   "source": [
    "We got a great accuracy%! But looking at the confusion matrix we see that out of all the charged off loans, very few were predicted correctly. That's not a great model. The reason for this is possibly because of the imbalance in the data. The charged off loans are at 9.3% of the total data and fully paid loans at 90.7% of the total data. \n",
    "Accuracy usually doesn't do a good job at evaluating performance of imbalanced datasets. Instead, we'll use AUC to evaluate the model. The AUC curve has been drawn below."
   ]
  },
  {
   "cell_type": "code",
   "execution_count": 181,
   "metadata": {
    "collapsed": false
   },
   "outputs": [
    {
     "data": {
      "image/png": "[encoded data removed]",
      "text/plain": [
       "<matplotlib.figure.Figure at 0x1f5afa83588>"
      ]
     },
     "metadata": {},
     "output_type": "display_data"
    }
   ],
   "source": [
    "# Generate the AUC curve\n",
    "fpr, tpr, threshold = metrics.roc_curve(y_test, y_pred)\n",
    "roc_auc = metrics.auc(fpr, tpr)\n",
    "\n",
    "plt.title('Receiver Operating Characteristic')\n",
    "plt.plot(fpr, tpr, 'b', label = 'AUC = %0.2f' % roc_auc)\n",
    "plt.legend(loc = 'lower right')\n",
    "plt.plot([0, 1], [0, 1],'r--')\n",
    "plt.xlim([0, 1])\n",
    "plt.ylim([0, 1])\n",
    "plt.ylabel('True Positive Rate')\n",
    "plt.xlabel('False Positive Rate')\n",
    "plt.show()"
   ]
  },
  {
   "cell_type": "markdown",
   "metadata": {},
   "source": [
    "The AUC is almost as bad, if not slightly better than a random model with AUC = 0.5. There's a lot of room for improvement, evident from this curve. We need to find a way to balance the data. One technique commonly used, is to upsample the training set to create a more balanced dataset. We can achieve this using SMOTE. "
   ]
  },
  {
   "cell_type": "code",
   "execution_count": 182,
   "metadata": {
    "collapsed": false
   },
   "outputs": [
    {
     "name": "stderr",
     "output_type": "stream",
     "text": [
      "C:\\Users\\msnay\\Anaconda3\\lib\\site-packages\\sklearn\\utils\\deprecation.py:77: DeprecationWarning: Function _ratio_float is deprecated; Use a float for 'ratio' is deprecated from version 0.2. The support will be removed in 0.4. Use a dict, str, or a callable instead.\n",
      "  warnings.warn(msg, category=DeprecationWarning)\n"
     ]
    },
    {
     "name": "stdout",
     "output_type": "stream",
     "text": [
      "Test score: 0.86\n",
      "Confusion matrix:\n",
      "[[3079  201]\n",
      " [ 316   38]]\n",
      "Classification report for Random Forest classifier RandomForestClassifier(bootstrap=True, class_weight=None, criterion='gini',\n",
      "            max_depth=None, max_features='auto', max_leaf_nodes=None,\n",
      "            min_impurity_decrease=0.0, min_impurity_split=None,\n",
      "            min_samples_leaf=1, min_samples_split=2,\n",
      "            min_weight_fraction_leaf=0.0, n_estimators=500, n_jobs=1,\n",
      "            oob_score=False, random_state=12, verbose=0, warm_start=False):\n",
      "             precision    recall  f1-score   support\n",
      "\n",
      "          0       0.91      0.94      0.92      3280\n",
      "          1       0.16      0.11      0.13       354\n",
      "\n",
      "avg / total       0.83      0.86      0.85      3634\n",
      "\n",
      "\n"
     ]
    },
    {
     "data": {
      "image/png": "[encoded data removed]",
      "text/plain": [
       "<matplotlib.figure.Figure at 0x1f5b5974240>"
      ]
     },
     "metadata": {},
     "output_type": "display_data"
    }
   ],
   "source": [
    "# Generating artificial data for upsampling\n",
    "sm = SMOTE(random_state=12, ratio = 1.0)\n",
    "x_train_res, y_train_res = sm.fit_sample(Xs_train, y_train)\n",
    "\n",
    "# Feeding new training set into Random Forest \n",
    "RF = RandomForestClassifier(n_estimators=500, random_state=12)\n",
    "RF.fit(x_train_res, y_train_res)\n",
    "y_pred = RF.predict(Xs_test)\n",
    "print('Test score: {:.2f}'.format(RF.score(Xs_test, y_test)))\n",
    "print(\"Confusion matrix:\\n%s\" % confusion_matrix(y_test, y_pred))\n",
    "print(\"Classification report for Random Forest classifier %s:\\n%s\\n\"\n",
    "      % (RF, classification_report(y_test, y_pred)))\n",
    "\n",
    "#Generating the AUC curve for this model\n",
    "fpr, tpr, threshold = metrics.roc_curve(y_test, y_pred)\n",
    "roc_auc = metrics.auc(fpr, tpr)\n",
    "\n",
    "plt.title('Receiver Operating Characteristic')\n",
    "plt.plot(fpr, tpr, 'b', label = 'AUC = %0.2f' % roc_auc)\n",
    "plt.legend(loc = 'lower right')\n",
    "plt.plot([0, 1], [0, 1],'r--')\n",
    "plt.xlim([0, 1])\n",
    "plt.ylim([0, 1])\n",
    "plt.ylabel('True Positive Rate')\n",
    "plt.xlabel('False Positive Rate')\n",
    "plt.show()"
   ]
  },
  {
   "cell_type": "markdown",
   "metadata": {},
   "source": [
    "With upsampling, accuracy has decreased, but precision and recall for 'Charged Off' loans is better. Even the AUC is better. \n",
    "Let's examine a few other models with the upsampled data to find out which gives the best score of AUC. Below we fit the data into a KNN classifier."
   ]
  },
  {
   "cell_type": "code",
   "execution_count": 183,
   "metadata": {
    "collapsed": false
   },
   "outputs": [
    {
     "name": "stdout",
     "output_type": "stream",
     "text": [
      "Test score: 0.69\n",
      "Confusion matrix:\n",
      "[[2389  891]\n",
      " [ 222  132]]\n",
      "Classification report for KNN classifier KNeighborsClassifier(algorithm='auto', leaf_size=30, metric='minkowski',\n",
      "           metric_params=None, n_jobs=1, n_neighbors=5, p=2,\n",
      "           weights='uniform'):\n",
      "             precision    recall  f1-score   support\n",
      "\n",
      "          0       0.91      0.73      0.81      3280\n",
      "          1       0.13      0.37      0.19       354\n",
      "\n",
      "avg / total       0.84      0.69      0.75      3634\n",
      "\n",
      "\n"
     ]
    },
    {
     "data": {
      "image/png": "[encoded data removed]",
      "text/plain": [
       "<matplotlib.figure.Figure at 0x1f5afa98b70>"
      ]
     },
     "metadata": {},
     "output_type": "display_data"
    }
   ],
   "source": [
    "# Apply KNN classifier to training data\n",
    "knn = neighbors.KNeighborsClassifier(n_neighbors = 5)\n",
    "knn_model_1 = knn.fit(x_train_res, y_train_res)\n",
    "y_pred = knn_model_1.predict(Xs_test)\n",
    "print('Test score: {:.2f}'.format(knn_model_1.score(Xs_test, y_test)))\n",
    "print(\"Confusion matrix:\\n%s\" % confusion_matrix(y_test, y_pred))\n",
    "print(\"Classification report for KNN classifier %s:\\n%s\\n\"\n",
    "      % (knn_model_1, classification_report(y_test, y_pred)))\n",
    "\n",
    "\n",
    "# Generate AUC curve\n",
    "fpr, tpr, threshold = metrics.roc_curve(y_test, y_pred)\n",
    "roc_auc = metrics.auc(fpr, tpr)\n",
    "\n",
    "import matplotlib.pyplot as plt\n",
    "plt.title('Receiver Operating Characteristic')\n",
    "plt.plot(fpr, tpr, 'b', label = 'AUC = %0.2f' % roc_auc)\n",
    "plt.legend(loc = 'lower right')\n",
    "plt.plot([0, 1], [0, 1],'r--')\n",
    "plt.xlim([0, 1])\n",
    "plt.ylim([0, 1])\n",
    "plt.ylabel('True Positive Rate')\n",
    "plt.xlabel('False Positive Rate')\n",
    "plt.show()"
   ]
  },
  {
   "cell_type": "markdown",
   "metadata": {},
   "source": [
    "The KNN model performs as well as the Random Forest, but it seems like there's still scope for improvement. The Logistic Regression model usually works very well with binary classification, so lets try that. We fit the upsampled data to a Logistic Regression model and plot the AUC curve."
   ]
  },
  {
   "cell_type": "code",
   "execution_count": 184,
   "metadata": {
    "collapsed": false
   },
   "outputs": [
    {
     "name": "stdout",
     "output_type": "stream",
     "text": [
      "Test score: 0.63\n",
      "Confusion matrix:\n",
      "[[2076 1204]\n",
      " [ 126  228]]\n",
      "Classification report for Logistic Regression classifier LogisticRegression(C=1.0, class_weight=None, dual=False, fit_intercept=True,\n",
      "          intercept_scaling=1, max_iter=100, multi_class='ovr', n_jobs=1,\n",
      "          penalty='l2', random_state=0, solver='liblinear', tol=0.0001,\n",
      "          verbose=0, warm_start=False):\n",
      "             precision    recall  f1-score   support\n",
      "\n",
      "          0       0.94      0.63      0.76      3280\n",
      "          1       0.16      0.64      0.26       354\n",
      "\n",
      "avg / total       0.87      0.63      0.71      3634\n",
      "\n",
      "\n"
     ]
    },
    {
     "data": {
      "image/png": "[encoded data removed]",
      "text/plain": [
       "<matplotlib.figure.Figure at 0x1f5b598c160>"
      ]
     },
     "metadata": {},
     "output_type": "display_data"
    }
   ],
   "source": [
    "# Apply Logistic Regression to training data\n",
    "classifier = LogisticRegression(random_state = 0)\n",
    "logreg_model = classifier.fit(x_train_res, y_train_res)\n",
    "y_pred = logreg_model.predict(Xs_test)\n",
    "print('Test score: {:.2f}'.format(logreg_model.score(Xs_test, y_test)))\n",
    "print(\"Confusion matrix:\\n%s\" % confusion_matrix(y_test, y_pred))\n",
    "print(\"Classification report for Logistic Regression classifier %s:\\n%s\\n\"\n",
    "      % (logreg_model, classification_report(y_test, y_pred)))\n",
    "\n",
    "# Generate AUC curve\n",
    "fpr, tpr, threshold = metrics.roc_curve(y_test, y_pred)\n",
    "roc_auc = metrics.auc(fpr, tpr)\n",
    "\n",
    "plt.title('Receiver Operating Characteristic')\n",
    "plt.plot(fpr, tpr, 'b', label = 'AUC = %0.2f' % roc_auc)\n",
    "plt.legend(loc = 'lower right')\n",
    "plt.plot([0, 1], [0, 1],'r--')\n",
    "plt.xlim([0, 1])\n",
    "plt.ylim([0, 1])\n",
    "plt.ylabel('True Positive Rate')\n",
    "plt.xlabel('False Positive Rate')\n",
    "plt.show()"
   ]
  },
  {
   "cell_type": "markdown",
   "metadata": {},
   "source": [
    "The Logistic Regression model seems to be the best one! It has the highest AUC score and the highest precision and recall for the 'Charged Off' loans. Using this model we now predict the probabilities of the 'Current' loans in October 2015. Below is a table to show the loan data and the probability that it gets 'Charged Off'."
   ]
  },
  {
   "cell_type": "code",
   "execution_count": 185,
   "metadata": {
    "collapsed": false
   },
   "outputs": [
    {
     "data": {
      "text/html": [
       "<div>\n",
       "<table border=\"1\" class=\"dataframe\">\n",
       "  <thead>\n",
       "    <tr style=\"text-align: right;\">\n",
       "      <th></th>\n",
       "      <th>loan_amnt</th>\n",
       "      <th>int_rate</th>\n",
       "      <th>annual_inc</th>\n",
       "      <th>avg Fico</th>\n",
       "      <th>Probability of being Charged Off</th>\n",
       "    </tr>\n",
       "  </thead>\n",
       "  <tbody>\n",
       "    <tr>\n",
       "      <th>0</th>\n",
       "      <td>14000</td>\n",
       "      <td>0.1167</td>\n",
       "      <td>135000.0</td>\n",
       "      <td>672.0</td>\n",
       "      <td>0.448476</td>\n",
       "    </tr>\n",
       "    <tr>\n",
       "      <th>1</th>\n",
       "      <td>8400</td>\n",
       "      <td>0.0917</td>\n",
       "      <td>75000.0</td>\n",
       "      <td>667.0</td>\n",
       "      <td>0.343676</td>\n",
       "    </tr>\n",
       "    <tr>\n",
       "      <th>2</th>\n",
       "      <td>10000</td>\n",
       "      <td>0.0769</td>\n",
       "      <td>94000.0</td>\n",
       "      <td>732.0</td>\n",
       "      <td>0.188072</td>\n",
       "    </tr>\n",
       "    <tr>\n",
       "      <th>3</th>\n",
       "      <td>2000</td>\n",
       "      <td>0.1299</td>\n",
       "      <td>150000.0</td>\n",
       "      <td>682.0</td>\n",
       "      <td>0.452663</td>\n",
       "    </tr>\n",
       "    <tr>\n",
       "      <th>4</th>\n",
       "      <td>6000</td>\n",
       "      <td>0.0917</td>\n",
       "      <td>60000.0</td>\n",
       "      <td>727.0</td>\n",
       "      <td>0.235134</td>\n",
       "    </tr>\n",
       "  </tbody>\n",
       "</table>\n",
       "</div>"
      ],
      "text/plain": [
       "   loan_amnt  int_rate  annual_inc  avg Fico  Probability of being Charged Off\n",
       "0      14000    0.1167    135000.0     672.0                          0.448476\n",
       "1       8400    0.0917     75000.0     667.0                          0.343676\n",
       "2      10000    0.0769     94000.0     732.0                          0.188072\n",
       "3       2000    0.1299    150000.0     682.0                          0.452663\n",
       "4       6000    0.0917     60000.0     727.0                          0.235134"
      ]
     },
     "execution_count": 185,
     "metadata": {},
     "output_type": "execute_result"
    }
   ],
   "source": [
    "# Predicting probablities of 'Current' loans\n",
    "final_pred = logreg_model.predict_proba(to_predict)[:,1]\n",
    "to_predict_ori = pd.DataFrame(to_predict_ori)\n",
    "to_predict_ori['Probability of being Charged Off'] = final_pred\n",
    "to_predict_ori.head()"
   ]
  },
  {
   "cell_type": "markdown",
   "metadata": {},
   "source": [
    "Now that we have the probabilities of each loan being 'Charged Off', we need to decide a cutoff probability, based on the data. Loans above the cutoff would be classified as 'Charged Off' and below would be 'Fully Paid'. "
   ]
  },
  {
   "cell_type": "code",
   "execution_count": null,
   "metadata": {
    "collapsed": true
   },
   "outputs": [],
   "source": []
  }
 ],
 "metadata": {
  "kernelspec": {
   "display_name": "Python 3",
   "language": "python",
   "name": "python3"
  },
  "language_info": {
   "codemirror_mode": {
    "name": "ipython",
    "version": 3
   },
   "file_extension": ".py",
   "mimetype": "text/x-python",
   "name": "python",
   "nbconvert_exporter": "python",
   "pygments_lexer": "ipython3",
   "version": "3.6.0"
  }
 },
 "nbformat": 4,
 "nbformat_minor": 2
}
