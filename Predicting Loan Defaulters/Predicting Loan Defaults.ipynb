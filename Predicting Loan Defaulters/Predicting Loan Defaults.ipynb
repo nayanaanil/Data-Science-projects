{
 "cells": [
  {
   "cell_type": "markdown",
   "metadata": {},
   "source": [
    "# Predicting Loan Defaulters\n",
    "\n",
    "#### Problem:\n",
    "In  the  CSV  file  that  accompanies  this  document  are  a  set  of  loans  issued  between October 2014 and September 2015.  The performance of these loans has beenobserved through October 2015.As of October 2015, each loan was marked (in the column loan status) as \"Current\", \"Fully Paid\", or \"Charged Off\".  \"Current\" means that the borrower is either on or ahead of schedule in terms of paying off his or her loan.  \"Fully Paid\" meansthat the loan has been entirely paid off.  \"Charged Off\" means that the borrower has stopped paying and defaulted on the loan. In addition to loan status, other variables included in the dataset are a uniquemember  id,  loan  amount,  interest  rate,  the  date  the  loan  was  issued,  lower  and upper endpoints of the range of the borrower's FICO score, annual income, and the date of the last payment that was made by the borrower.\n",
    "\n",
    "### What is the relationship between FICO score and interest rate?\n",
    "\n",
    "Observations:\n",
    " -  There is a negative correlation between Fico score and interest rate. As the fico score increases, the rate of interest drops.\n",
    " \n",
    "![title](ficovsint.png)\n",
    "\n",
    "### What is the relationship between loan size and interest rate?\n",
    "\n",
    "Observations:\n",
    " -  Interest rate band of 20% - 25%\n",
    "  -  Dense for loan amount below 10k, becomes less dense 10k to 20k and beyond 20k is very sparse.\n",
    " -  Interest rate band of 10% - 20%\n",
    "  -  Dense for loan upto 25k, and becomes sparse beyond that\n",
    " -  Interest rate band 5% - 10%\n",
    "  -  Sparse upto 5k, then dense from 5k to 15k. Becomes less dense after that, trailing off after 30k\n",
    "  \n",
    "Inference:\n",
    " -  Lower loan amounts usually involve multiple checks on the borrower, and the interest rate varies depending on these factors. Loan amounts of upto 15k are almost always sanctioned, with an interest rate based on the borrower's background. This is evident from the graph having most loan concentration in the 0-15k loan amount and 10%-20% interest rate range. On the other hand, higher loans amounts above 20k, are not sanctioned at all until extensive background checks are passed. Hence, the lower concentration in that area.\n",
    " -  A ~25% interest rate on loans is uncommon, since few borrowers would pick up such a loan. That explains the sparsity of this interest bracket as compared to the others. \n",
    " -  Similarly, borrowers awarded a 5% interest rate, would be those with a high income/high fico. Most of these borrowers seem to pick up loans 5k - 15k. But the overall number of borrowers would be fewer as compared to other interest brackets.\n",
    " \n",
    "![title](amtvsint.png)\n",
    "\n",
    "Not surprising that a borrowers FICO score affects the relationship between loan amount and interest rate. Here is a graph depicting this."
   ]
  },
  {
   "cell_type": "code",
   "execution_count": 10,
   "metadata": {
    "collapsed": false
   },
   "outputs": [
    {
     "data": {
      "text/html": [
       "<div class='tableauPlaceholder' id='viz1511640852541' style='position: relative'><noscript><a href='#'><img alt='Loan Amt : Interest Rate&#47; FICO ' src='https:&#47;&#47;public.tableau.com&#47;static&#47;images&#47;KF&#47;KFTKGDRP8&#47;1_rss.png' style='border: none' /></a></noscript><object class='tableauViz'  style='display:none;'><param name='host_url' value='https%3A%2F%2Fpublic.tableau.com%2F' /> <param name='embed_code_version' value='3' /> <param name='path' value='shared&#47;KFTKGDRP8' /> <param name='toolbar' value='yes' /><param name='static_image' value='https:&#47;&#47;public.tableau.com&#47;static&#47;images&#47;KF&#47;KFTKGDRP8&#47;1.png' /> <param name='animate_transition' value='yes' /><param name='display_static_image' value='yes' /><param name='display_spinner' value='yes' /><param name='display_overlay' value='yes' /><param name='display_count' value='yes' /><param name='filter' value='publish=yes' /></object></div>                <script type='text/javascript'>                    var divElement = document.getElementById('viz1511640852541');                    var vizElement = divElement.getElementsByTagName('object')[0];                    vizElement.style.width='100%';vizElement.style.height=(divElement.offsetWidth*0.60)+'px';                    var scriptElement = document.createElement('script');                    scriptElement.src = 'https://public.tableau.com/javascripts/api/viz_v1.js';                    vizElement.parentNode.insertBefore(scriptElement, vizElement);                </script>"
      ],
      "text/plain": [
       "<IPython.core.display.HTML object>"
      ]
     },
     "metadata": {},
     "output_type": "display_data"
    }
   ],
   "source": [
    "%%HTML\n",
    "<div class='tableauPlaceholder' id='viz1511640852541' style='position: relative'><noscript><a href='#'><img alt='Loan Amt : Interest Rate&#47; FICO ' src='https:&#47;&#47;public.tableau.com&#47;static&#47;images&#47;KF&#47;KFTKGDRP8&#47;1_rss.png' style='border: none' /></a></noscript><object class='tableauViz'  style='display:none;'><param name='host_url' value='https%3A%2F%2Fpublic.tableau.com%2F' /> <param name='embed_code_version' value='3' /> <param name='path' value='shared&#47;KFTKGDRP8' /> <param name='toolbar' value='yes' /><param name='static_image' value='https:&#47;&#47;public.tableau.com&#47;static&#47;images&#47;KF&#47;KFTKGDRP8&#47;1.png' /> <param name='animate_transition' value='yes' /><param name='display_static_image' value='yes' /><param name='display_spinner' value='yes' /><param name='display_overlay' value='yes' /><param name='display_count' value='yes' /><param name='filter' value='publish=yes' /></object></div>                <script type='text/javascript'>                    var divElement = document.getElementById('viz1511640852541');                    var vizElement = divElement.getElementsByTagName('object')[0];                    vizElement.style.width='100%';vizElement.style.height=(divElement.offsetWidth*0.60)+'px';                    var scriptElement = document.createElement('script');                    scriptElement.src = 'https://public.tableau.com/javascripts/api/viz_v1.js';                    vizElement.parentNode.insertBefore(scriptElement, vizElement);                </script>"
   ]
  },
  {
   "cell_type": "markdown",
   "metadata": {},
   "source": [
    "The above is a plot of Loan amount vs Interest rates, based on FICO scores. For visibility, FICO scores have been binned with 50 points in each bin.\n",
    "Clicking on the legend (Avg fico(bin)) will filter data points for each bin. \n",
    "\n",
    "Observations:\n",
    " -  Increase in FICO sees a decrease in number of loans\n",
    " -  Increase in FICO also sees a decrease in the interest rate\n",
    " \n",
    "Inference:\n",
    " -  Higher the FICO, lesser the requirement for loans. Low FICO scorers borrow many more loans than high FICO scorers.\n",
    " -  Higher the FICO, more reliable the borrower. Irrespective of loan amount, he gets awarded a low interest rate.\n",
    " -  Similarly, lower FICO borrowers are majorly awarded lower amount loans with hiher interest rates.\n",
    " \n",
    " \n",
    "### Does it seem like the size of a loan and/or the borrower's FICO score are related to whether or not the loan ends up being charged off?  How might this relate to your answer to the previous question?\n",
    "\n",
    "Looking first at the relationship of Loan Amount to Loan Status. We need to find if the loan amount influences the charge off ratio. To do this, we first bin the loan amounts into $5k bins each. Then we find the ratio of the count(loans that charged off)/count(all loans) for each bin. The same calculation has been repated for the sum amount of loans in each bin.\n",
    "\n",
    "Observations:\n",
    " -  The ratio seems to be almost constant over all bins\n",
    " -  Even though a small difference, the ratio of charged off loans drops consistently, and is lowest at $20k loans before increasing again.\n",
    "\n",
    " \n",
    "Inference:\n",
    " -  The charge off rate across all bins is almost the same\n",
    " -  Interestingly very low amount and very high amount loans have the same percentage of getting charged off. This may indicate that more checks/security is required for loans of these amounts.\n",
    "However, It is difficult to conclude if this is an actual trend, due to lack of data for the other loan amounts. \n",
    "\n",
    "![title](percentsChargeOff.png)\n",
    "\n",
    "Now, lets's examine the relationship between FICO score and Loan Status. Using the same graph as above, I now factored in the FICO score of borrowers. \n"
   ]
  },
  {
   "cell_type": "code",
   "execution_count": 14,
   "metadata": {
    "collapsed": false
   },
   "outputs": [
    {
     "data": {
      "text/html": [
       "<div class='tableauPlaceholder' id='viz1511677529070' style='position: relative'><noscript><a href='#'><img alt='% Charged Off : FICO ' src='https:&#47;&#47;public.tableau.com&#47;static&#47;images&#47;Up&#47;UpstartChallenge&#47;ChargedOffFICO&#47;1_rss.png' style='border: none' /></a></noscript><object class='tableauViz'  style='display:none;'><param name='host_url' value='https%3A%2F%2Fpublic.tableau.com%2F' /> <param name='embed_code_version' value='3' /> <param name='site_root' value='' /><param name='name' value='UpstartChallenge&#47;ChargedOffFICO' /><param name='tabs' value='no' /><param name='toolbar' value='yes' /><param name='static_image' value='https:&#47;&#47;public.tableau.com&#47;static&#47;images&#47;Up&#47;UpstartChallenge&#47;ChargedOffFICO&#47;1.png' /> <param name='animate_transition' value='yes' /><param name='display_static_image' value='yes' /><param name='display_spinner' value='yes' /><param name='display_overlay' value='yes' /><param name='display_count' value='yes' /><param name='filter' value='publish=yes' /></object></div>                <script type='text/javascript'>                    var divElement = document.getElementById('viz1511677529070');                    var vizElement = divElement.getElementsByTagName('object')[0];                    vizElement.style.width='100%';vizElement.style.height=(divElement.offsetWidth*0.75)+'px';                    var scriptElement = document.createElement('script');                    scriptElement.src = 'https://public.tableau.com/javascripts/api/viz_v1.js';                    vizElement.parentNode.insertBefore(scriptElement, vizElement);                </script>"
      ],
      "text/plain": [
       "<IPython.core.display.HTML object>"
      ]
     },
     "metadata": {},
     "output_type": "display_data"
    }
   ],
   "source": [
    "%%HTML\n",
    "<div class='tableauPlaceholder' id='viz1511677529070' style='position: relative'><noscript><a href='#'><img alt='% Charged Off : FICO ' src='https:&#47;&#47;public.tableau.com&#47;static&#47;images&#47;Up&#47;UpstartChallenge&#47;ChargedOffFICO&#47;1_rss.png' style='border: none' /></a></noscript><object class='tableauViz'  style='display:none;'><param name='host_url' value='https%3A%2F%2Fpublic.tableau.com%2F' /> <param name='embed_code_version' value='3' /> <param name='site_root' value='' /><param name='name' value='UpstartChallenge&#47;ChargedOffFICO' /><param name='tabs' value='no' /><param name='toolbar' value='yes' /><param name='static_image' value='https:&#47;&#47;public.tableau.com&#47;static&#47;images&#47;Up&#47;UpstartChallenge&#47;ChargedOffFICO&#47;1.png' /> <param name='animate_transition' value='yes' /><param name='display_static_image' value='yes' /><param name='display_spinner' value='yes' /><param name='display_overlay' value='yes' /><param name='display_count' value='yes' /><param name='filter' value='publish=yes' /></object></div>                <script type='text/javascript'>                    var divElement = document.getElementById('viz1511677529070');                    var vizElement = divElement.getElementsByTagName('object')[0];                    vizElement.style.width='100%';vizElement.style.height=(divElement.offsetWidth*0.75)+'px';                    var scriptElement = document.createElement('script');                    scriptElement.src = 'https://public.tableau.com/javascripts/api/viz_v1.js';                    vizElement.parentNode.insertBefore(scriptElement, vizElement);                </script>"
   ]
  },
  {
   "cell_type": "markdown",
   "metadata": {},
   "source": [
    "Observations:\n",
    " -  Borrowers with FICO score 850+ default 33.3% on loans valued $15k-$20k, but charge off 0% on other loans\n",
    " -  Borrowers with FICO score 750-800 default the least\n",
    " -  As FICO score increases, percentage of charge offs decrease, except for anomaly just observed\n",
    " \n",
    "Inference:\n",
    " -  The data seems to show that every 1 in 3 borrowers with FICO 850+ will charge off!! Its very interesting that high FICO scorers would have high charge off rates, especially for just one bracket of loan amount. However, there seems to be no other data to support the same. Upon closer inspection of the data, (shown below) I found that the number of FICO 850+ borrowers who borrowed loans between 15k and 20k are 3, and 1 charged off.\n",
    " \n",
    "Obviously, this is too small a set to make any conclusions, and so the previous inference can be discarded. For a clearer picture, I plotted the FICO score bins with the count of loans that were charged off. Click on the legend to display only the charged off loans.\n",
    "\n",
    "Observations:\n",
    " -  As FICO score increases, number of charged off loans decreases drastically, trailing off to close to 0 aroound 750+ FICO scores.\n",
    " \n",
    "Inference:\n",
    " - This makes more sense, and is what is expected. However, it still holds that the dataset is too small to make a solid conclusion."
   ]
  },
  {
   "cell_type": "code",
   "execution_count": 18,
   "metadata": {
    "collapsed": false
   },
   "outputs": [
    {
     "data": {
      "text/html": [
       "<div class='tableauPlaceholder' id='viz1511679526430' style='position: relative'><noscript><a href='#'><img alt='FICO : Loan Status ' src='https:&#47;&#47;public.tableau.com&#47;static&#47;images&#47;Up&#47;UpstartChallenge&#47;FICOLoanStatus&#47;1_rss.png' style='border: none' /></a></noscript><object class='tableauViz'  style='display:none;'><param name='host_url' value='https%3A%2F%2Fpublic.tableau.com%2F' /> <param name='embed_code_version' value='3' /> <param name='site_root' value='' /><param name='name' value='UpstartChallenge&#47;FICOLoanStatus' /><param name='tabs' value='no' /><param name='toolbar' value='yes' /><param name='static_image' value='https:&#47;&#47;public.tableau.com&#47;static&#47;images&#47;Up&#47;UpstartChallenge&#47;FICOLoanStatus&#47;1.png' /> <param name='animate_transition' value='yes' /><param name='display_static_image' value='yes' /><param name='display_spinner' value='yes' /><param name='display_overlay' value='yes' /><param name='display_count' value='yes' /><param name='filter' value='publish=yes' /></object></div>                <script type='text/javascript'>                    var divElement = document.getElementById('viz1511679526430');                    var vizElement = divElement.getElementsByTagName('object')[0];                    vizElement.style.width='100%';vizElement.style.height=(divElement.offsetWidth*0.60)+'px';                    var scriptElement = document.createElement('script');                    scriptElement.src = 'https://public.tableau.com/javascripts/api/viz_v1.js';                    vizElement.parentNode.insertBefore(scriptElement, vizElement);                </script>"
      ],
      "text/plain": [
       "<IPython.core.display.HTML object>"
      ]
     },
     "metadata": {},
     "output_type": "display_data"
    }
   ],
   "source": [
    "%%HTML\n",
    "<div class='tableauPlaceholder' id='viz1511679526430' style='position: relative'><noscript><a href='#'><img alt='FICO : Loan Status ' src='https:&#47;&#47;public.tableau.com&#47;static&#47;images&#47;Up&#47;UpstartChallenge&#47;FICOLoanStatus&#47;1_rss.png' style='border: none' /></a></noscript><object class='tableauViz'  style='display:none;'><param name='host_url' value='https%3A%2F%2Fpublic.tableau.com%2F' /> <param name='embed_code_version' value='3' /> <param name='site_root' value='' /><param name='name' value='UpstartChallenge&#47;FICOLoanStatus' /><param name='tabs' value='no' /><param name='toolbar' value='yes' /><param name='static_image' value='https:&#47;&#47;public.tableau.com&#47;static&#47;images&#47;Up&#47;UpstartChallenge&#47;FICOLoanStatus&#47;1.png' /> <param name='animate_transition' value='yes' /><param name='display_static_image' value='yes' /><param name='display_spinner' value='yes' /><param name='display_overlay' value='yes' /><param name='display_count' value='yes' /><param name='filter' value='publish=yes' /></object></div>                <script type='text/javascript'>                    var divElement = document.getElementById('viz1511679526430');                    var vizElement = divElement.getElementsByTagName('object')[0];                    vizElement.style.width='100%';vizElement.style.height=(divElement.offsetWidth*0.60)+'px';                    var scriptElement = document.createElement('script');                    scriptElement.src = 'https://public.tableau.com/javascripts/api/viz_v1.js';                    vizElement.parentNode.insertBefore(scriptElement, vizElement);                </script>"
   ]
  },
  {
   "cell_type": "markdown",
   "metadata": {},
   "source": [
    "### What percentage of loans have been charged off as of October 2015?\n",
    "The total number of loans present in October 2015 are 221,043. 7 loans were charged off. Thats 0.003%.\n",
    "\n",
    "### Some of the loans which are marked \"Current\" in October 2015 will endup being charged off before they are paid in full.  Using the fact that all of these loans are 3 years in length, estimate the probability that a randomly chosen loan would eventually become charged off,  possibly after October 2015.  Be sure to explain any assumptions you make."
   ]
  },
  {
   "cell_type": "code",
   "execution_count": 56,
   "metadata": {
    "collapsed": false
   },
   "outputs": [
    {
     "name": "stdout",
     "output_type": "stream",
     "text": [
      "Index(['member_id', 'loan_amnt', 'int_rate', 'issue_d', 'loan_status',\n",
      "       'fico_range_low', 'fico_range_high', 'annual_inc', 'last_pymnt_d'],\n",
      "      dtype='object')\n"
     ]
    }
   ],
   "source": [
    "#import libraries\n",
    "import pandas as pd\n",
    "import numpy as np\n",
    "import seaborn as sns\n",
    "from sklearn.preprocessing import scale\n",
    "from sklearn.cross_validation import train_test_split\n",
    "from sklearn.ensemble import RandomForestClassifier\n",
    "from sklearn.metrics import precision_recall_curve,average_precision_score\n",
    "from sklearn.metrics import confusion_matrix, classification_report\n",
    "\n",
    "#import the data\n",
    "loan = pd.read_excel('upstartloan_data.xlsx')\n",
    "print(loan.columns)\n",
    "loan."
   ]
  },
  {
   "cell_type": "code",
   "execution_count": 57,
   "metadata": {
    "collapsed": false
   },
   "outputs": [
    {
     "data": {
      "text/html": [
       "<div>\n",
       "<table border=\"1\" class=\"dataframe\">\n",
       "  <thead>\n",
       "    <tr style=\"text-align: right;\">\n",
       "      <th></th>\n",
       "      <th>loan_amnt</th>\n",
       "      <th>int_rate</th>\n",
       "      <th>annual_inc</th>\n",
       "      <th>loan_status</th>\n",
       "      <th>avg Fico</th>\n",
       "    </tr>\n",
       "  </thead>\n",
       "  <tbody>\n",
       "    <tr>\n",
       "      <th>0</th>\n",
       "      <td>18000</td>\n",
       "      <td>0.0917</td>\n",
       "      <td>150000.0</td>\n",
       "      <td>Fully Paid</td>\n",
       "      <td>702.0</td>\n",
       "    </tr>\n",
       "    <tr>\n",
       "      <th>1</th>\n",
       "      <td>14000</td>\n",
       "      <td>0.1167</td>\n",
       "      <td>135000.0</td>\n",
       "      <td>Current</td>\n",
       "      <td>672.0</td>\n",
       "    </tr>\n",
       "    <tr>\n",
       "      <th>2</th>\n",
       "      <td>8400</td>\n",
       "      <td>0.0917</td>\n",
       "      <td>75000.0</td>\n",
       "      <td>Current</td>\n",
       "      <td>667.0</td>\n",
       "    </tr>\n",
       "    <tr>\n",
       "      <th>3</th>\n",
       "      <td>10000</td>\n",
       "      <td>0.0769</td>\n",
       "      <td>94000.0</td>\n",
       "      <td>Current</td>\n",
       "      <td>732.0</td>\n",
       "    </tr>\n",
       "    <tr>\n",
       "      <th>4</th>\n",
       "      <td>2000</td>\n",
       "      <td>0.1299</td>\n",
       "      <td>150000.0</td>\n",
       "      <td>Current</td>\n",
       "      <td>682.0</td>\n",
       "    </tr>\n",
       "  </tbody>\n",
       "</table>\n",
       "</div>"
      ],
      "text/plain": [
       "   loan_amnt  int_rate  annual_inc loan_status  avg Fico\n",
       "0      18000    0.0917    150000.0  Fully Paid     702.0\n",
       "1      14000    0.1167    135000.0     Current     672.0\n",
       "2       8400    0.0917     75000.0     Current     667.0\n",
       "3      10000    0.0769     94000.0     Current     732.0\n",
       "4       2000    0.1299    150000.0     Current     682.0"
      ]
     },
     "execution_count": 57,
     "metadata": {},
     "output_type": "execute_result"
    }
   ],
   "source": [
    "# For accurate prediction, we filter out columns that are irrelevant or see into the future\n",
    "# Columns to eliminate: member_id(irrelevant), 'issue_d'(not enough dta in this set to use), 'last_\n",
    "loan = loan[['loan_amnt', 'int_rate',\n",
    "       'fico_range_low', 'fico_range_high', 'annual_inc', 'loan_status']]\n",
    "\n",
    "# Combine high and low FICO scores into an average score and drop original columns\n",
    "loan['avg Fico'] = (loan['fico_range_low'] + loan['fico_range_high'])/2\n",
    "cols_to_drop = ['fico_range_low','fico_range_high']\n",
    "loan.drop(cols_to_drop,axis = 1, inplace=True)\n",
    "loan.head()"
   ]
  },
  {
   "cell_type": "code",
   "execution_count": 75,
   "metadata": {
    "collapsed": false
   },
   "outputs": [
    {
     "data": {
      "text/plain": [
       "0.9073594979908626"
      ]
     },
     "execution_count": 75,
     "metadata": {},
     "output_type": "execute_result"
    }
   ],
   "source": [
    "loan['loan_status'].value_counts()\n",
    "16484/(1683+16484)"
   ]
  },
  {
   "cell_type": "code",
   "execution_count": 58,
   "metadata": {
    "collapsed": false
   },
   "outputs": [
    {
     "name": "stdout",
     "output_type": "stream",
     "text": [
      "<class 'pandas.core.frame.DataFrame'>\n",
      "RangeIndex: 18167 entries, 0 to 18166\n",
      "Data columns (total 5 columns):\n",
      "loan_amnt      18167 non-null int64\n",
      "int_rate       18167 non-null float64\n",
      "annual_inc     18167 non-null float64\n",
      "loan_status    18167 non-null object\n",
      "avg Fico       18167 non-null float64\n",
      "dtypes: float64(3), int64(1), object(1)\n",
      "memory usage: 709.7+ KB\n"
     ]
    }
   ],
   "source": [
    "# Our ultimate goal is to predict which loans will be fully paid and which ones will be charged off. The loans that are 'Current'\n",
    "# will not help us predict this, as they give no usable information. So we eliminate these records from the dataset\n",
    "\n",
    "loan = loan[(loan['loan_status'] == 'Fully Paid') | (loan['loan_status'] == 'Charged Off')]\n",
    "loan.reset_index(inplace=True)\n",
    "loan.drop('index', axis=1, inplace=True)\n",
    "loan.head()\n",
    "\n",
    "#Info about the dataset\n",
    "loan['loan_status'].value_counts()\n",
    "loan.info()"
   ]
  },
  {
   "cell_type": "code",
   "execution_count": 59,
   "metadata": {
    "collapsed": false
   },
   "outputs": [],
   "source": [
    "# We want to replace the loan status objects with numbers that denote the same information. We map Fully Paid to 0 and\n",
    "# Charged Off to 1.\n",
    "mapping_dictionary = {\"loan_status\":{ \"Fully Paid\": 0, \"Charged Off\": 1}}\n",
    "loan = loan.replace(mapping_dictionary)\n",
    "loan.head()\n",
    "\n",
    "#shuffle the data to minimize over/underfitting\n",
    "loan = loan.sample(frac=1).reset_index(drop=True)"
   ]
  },
  {
   "cell_type": "code",
   "execution_count": 60,
   "metadata": {
    "collapsed": false
   },
   "outputs": [],
   "source": [
    "# Divide data into features and target\n",
    "Xs = loan.drop('loan_status', 1).values\n",
    "y = loan['loan_status'].values\n",
    "\n",
    "# Generate training and test sets\n",
    "Xs_train, Xs_test, y_train, y_test = train_test_split(Xs, y, test_size=0.2, random_state=42)"
   ]
  },
  {
   "cell_type": "code",
   "execution_count": 67,
   "metadata": {
    "collapsed": false
   },
   "outputs": [
    {
     "name": "stdout",
     "output_type": "stream",
     "text": [
      "Test score: 0.90\n",
      "Confusion matrix:\n",
      "[[3253   35]\n",
      " [ 335   11]]\n",
      "Classification report for Random Forest classifier RandomForestClassifier(bootstrap=True, class_weight=None, criterion='gini',\n",
      "            max_depth=None, max_features='auto', max_leaf_nodes=None,\n",
      "            min_impurity_split=1e-07, min_samples_leaf=1,\n",
      "            min_samples_split=2, min_weight_fraction_leaf=0.0,\n",
      "            n_estimators=500, n_jobs=1, oob_score=False, random_state=None,\n",
      "            verbose=0, warm_start=False):\n",
      "             precision    recall  f1-score   support\n",
      "\n",
      "          0       0.91      0.99      0.95      3288\n",
      "          1       0.24      0.03      0.06       346\n",
      "\n",
      "avg / total       0.84      0.90      0.86      3634\n",
      "\n",
      "\n",
      "-------------------------------------------\n"
     ]
    },
    {
     "data": {
      "text/plain": [
       "'confmat = confusion_matrix(y_test, y_pred)\\nFP = confmat.sum(axis=0) - np.diag(confmat)  \\nFN = confmat.sum(axis=1) - np.diag(confmat)\\nTP = np.diag(confmat)\\nTN = confmat.values.sum() - (FP + FN + TP)\\n\\n# Sensitivity, hit rate, recall, or true positive rate\\nprint(\"Sensitivity is : \")\\nTPR = TP/(TP+FN)\\n# Specificity or true negative rate\\nprint(\"Specificity is : \")\\nTNR = TN/(TN+FP)'"
      ]
     },
     "execution_count": 67,
     "metadata": {},
     "output_type": "execute_result"
    }
   ],
   "source": [
    "#Using a Random Forest classifier to predict loan status\n",
    "RF = RandomForestClassifier(n_estimators=500)\n",
    "RF.fit(Xs_train, y_train)\n",
    "y_pred = RF.predict(Xs_test)\n",
    "print('Test score: {:.2f}'.format(RF.score(Xs_test, y_test)))\n",
    "print(\"Confusion matrix:\\n%s\" % confusion_matrix(y_test, y_pred))\n",
    "print(\"Classification report for Random Forest classifier %s:\\n%s\\n\"\n",
    "      % (RF, classification_report(y_test, y_pred)))\n",
    "print(\"-------------------------------------------\")\n",
    "'''confmat = confusion_matrix(y_test, y_pred)\n",
    "FP = confmat.sum(axis=0) - np.diag(confmat)  \n",
    "FN = confmat.sum(axis=1) - np.diag(confmat)\n",
    "TP = np.diag(confmat)\n",
    "TN = confmat.values.sum() - (FP + FN + TP)\n",
    "\n",
    "# Sensitivity, hit rate, recall, or true positive rate\n",
    "print(\"Sensitivity is : \")\n",
    "TPR = TP/(TP+FN)\n",
    "# Specificity or true negative rate\n",
    "print(\"Specificity is : \")\n",
    "TNR = TN/(TN+FP)'''"
   ]
  },
  {
   "cell_type": "markdown",
   "metadata": {},
   "source": [
    "We got an accuracy of 90%! But looking atthe confusion matrix we see that out of 346 charged off loans, only 11 were predicted correctly. That's not a great model. The reason for this is possibly because of the imbalance in the data. There are 1683 charged off loans 9.3% of the total data and 16484 fully paid loans in the data at 90.7%. \n",
    "Accuracy usually doesn't do a good job at evaluating performance over imbalanced datasets. Instead, we'll use AUC to evaluate the model. The AUC curve has been drawn below.\n"
   ]
  },
  {
   "cell_type": "code",
   "execution_count": 64,
   "metadata": {
    "collapsed": false
   },
   "outputs": [
    {
     "data": {
      "image/png": "[encoded data removed]",
      "text/plain": [
       "<matplotlib.figure.Figure at 0x1a01a6b35c0>"
      ]
     },
     "metadata": {},
     "output_type": "display_data"
    }
   ],
   "source": [
    "from sklearn import metrics\n",
    "fpr, tpr, threshold = metrics.roc_curve(y_test, y_pred)\n",
    "roc_auc = metrics.auc(fpr, tpr)\n",
    "\n",
    "# method I: plt\n",
    "import matplotlib.pyplot as plt\n",
    "plt.title('Receiver Operating Characteristic')\n",
    "plt.plot(fpr, tpr, 'b', label = 'AUC = %0.2f' % roc_auc)\n",
    "plt.legend(loc = 'lower right')\n",
    "plt.plot([0, 1], [0, 1],'r--')\n",
    "plt.xlim([0, 1])\n",
    "plt.ylim([0, 1])\n",
    "plt.ylabel('True Positive Rate')\n",
    "plt.xlabel('False Positive Rate')\n",
    "plt.show()"
   ]
  },
  {
   "cell_type": "markdown",
   "metadata": {},
   "source": [
    "There's a lot of room for improvement, evident from this curve. One technique commonly used is to upsample the data to crete a more balanced dataset. We can achieve this using SMOTE. "
   ]
  },
  {
   "cell_type": "code",
   "execution_count": 5,
   "metadata": {
    "collapsed": false
   },
   "outputs": [
    {
     "name": "stdout",
     "output_type": "stream",
     "text": [
      "The scikit-learn version is 0.18.1.\n"
     ]
    }
   ],
   "source": [
    "import sklearn\n",
    "from imblearn.over_sampling import SMOTE \n",
    "print('The scikit-learn version is {}.'.format(sklearn.__version__))"
   ]
  },
  {
   "cell_type": "code",
   "execution_count": 3,
   "metadata": {
    "collapsed": false
   },
   "outputs": [
    {
     "ename": "ImportError",
     "evalue": "A sklearn version of at least 0.19.0 is required to use imbalanced-learn. 0.18.1 was found. Please upgrade sklearn",
     "output_type": "error",
     "traceback": [
      "\u001b[0;31m---------------------------------------------------------------------------\u001b[0m",
      "\u001b[0;31mImportError\u001b[0m                               Traceback (most recent call last)",
      "\u001b[0;32m<ipython-input-3-f0bf7b09e29a>\u001b[0m in \u001b[0;36m<module>\u001b[0;34m()\u001b[0m\n\u001b[0;32m----> 1\u001b[0;31m \u001b[1;32mfrom\u001b[0m \u001b[0mimblearn\u001b[0m\u001b[1;33m.\u001b[0m\u001b[0mover_sampling\u001b[0m \u001b[1;32mimport\u001b[0m \u001b[0mSMOTE\u001b[0m\u001b[1;33m\u001b[0m\u001b[0m\n\u001b[0m\u001b[1;32m      2\u001b[0m \u001b[0msm\u001b[0m \u001b[1;33m=\u001b[0m \u001b[0mSMOTE\u001b[0m\u001b[1;33m(\u001b[0m\u001b[0mrandom_state\u001b[0m\u001b[1;33m=\u001b[0m\u001b[1;36m12\u001b[0m\u001b[1;33m,\u001b[0m \u001b[0mratio\u001b[0m \u001b[1;33m=\u001b[0m \u001b[1;36m1.0\u001b[0m\u001b[1;33m)\u001b[0m\u001b[1;33m\u001b[0m\u001b[0m\n\u001b[1;32m      3\u001b[0m \u001b[0mx_train_res\u001b[0m\u001b[1;33m,\u001b[0m \u001b[0my_train_res\u001b[0m \u001b[1;33m=\u001b[0m \u001b[0msm\u001b[0m\u001b[1;33m.\u001b[0m\u001b[0mfit_sample\u001b[0m\u001b[1;33m(\u001b[0m\u001b[0mx_train\u001b[0m\u001b[1;33m,\u001b[0m \u001b[0my_train\u001b[0m\u001b[1;33m)\u001b[0m\u001b[1;33m\u001b[0m\u001b[0m\n",
      "\u001b[0;32mC:\\Users\\msnay\\Anaconda3\\lib\\site-packages\\imblearn\\__init__.py\u001b[0m in \u001b[0;36m<module>\u001b[0;34m()\u001b[0m\n\u001b[1;32m     29\u001b[0m \u001b[1;32mfrom\u001b[0m \u001b[1;33m.\u001b[0m\u001b[0mversion\u001b[0m \u001b[1;32mimport\u001b[0m \u001b[0m_check_module_dependencies\u001b[0m\u001b[1;33m,\u001b[0m \u001b[0m__version__\u001b[0m\u001b[1;33m\u001b[0m\u001b[0m\n\u001b[1;32m     30\u001b[0m \u001b[1;33m\u001b[0m\u001b[0m\n\u001b[0;32m---> 31\u001b[0;31m \u001b[0m_check_module_dependencies\u001b[0m\u001b[1;33m(\u001b[0m\u001b[1;33m)\u001b[0m\u001b[1;33m\u001b[0m\u001b[0m\n\u001b[0m\u001b[1;32m     32\u001b[0m \u001b[1;33m\u001b[0m\u001b[0m\n\u001b[1;32m     33\u001b[0m \u001b[1;31m# Boolean controlling whether the joblib caches should be\u001b[0m\u001b[1;33m\u001b[0m\u001b[1;33m\u001b[0m\u001b[0m\n",
      "\u001b[0;32mC:\\Users\\msnay\\Anaconda3\\lib\\site-packages\\imblearn\\version.py\u001b[0m in \u001b[0;36m_check_module_dependencies\u001b[0;34m(is_imbalanced_dataset_installing)\u001b[0m\n\u001b[1;32m    100\u001b[0m                 \u001b[0mmodule_name\u001b[0m\u001b[1;33m=\u001b[0m\u001b[0mmodule_name\u001b[0m\u001b[1;33m,\u001b[0m\u001b[1;33m\u001b[0m\u001b[0m\n\u001b[1;32m    101\u001b[0m                 \u001b[0mminimum_version\u001b[0m\u001b[1;33m=\u001b[0m\u001b[0mmodule_metadata\u001b[0m\u001b[1;33m[\u001b[0m\u001b[1;34m'min_version'\u001b[0m\u001b[1;33m]\u001b[0m\u001b[1;33m,\u001b[0m\u001b[1;33m\u001b[0m\u001b[0m\n\u001b[0;32m--> 102\u001b[0;31m                 install_info=module_metadata.get('install_info'))\n\u001b[0m",
      "\u001b[0;32mC:\\Users\\msnay\\Anaconda3\\lib\\site-packages\\imblearn\\version.py\u001b[0m in \u001b[0;36m_import_module_with_version_check\u001b[0;34m(module_name, minimum_version, install_info)\u001b[0m\n\u001b[1;32m     75\u001b[0m                        module_version=module_version)\n\u001b[1;32m     76\u001b[0m \u001b[1;33m\u001b[0m\u001b[0m\n\u001b[0;32m---> 77\u001b[0;31m         \u001b[1;32mraise\u001b[0m \u001b[0mImportError\u001b[0m\u001b[1;33m(\u001b[0m\u001b[0mmessage\u001b[0m\u001b[1;33m)\u001b[0m\u001b[1;33m\u001b[0m\u001b[0m\n\u001b[0m\u001b[1;32m     78\u001b[0m \u001b[1;33m\u001b[0m\u001b[0m\n\u001b[1;32m     79\u001b[0m     \u001b[1;32mreturn\u001b[0m \u001b[0mmodule\u001b[0m\u001b[1;33m\u001b[0m\u001b[0m\n",
      "\u001b[0;31mImportError\u001b[0m: A sklearn version of at least 0.19.0 is required to use imbalanced-learn. 0.18.1 was found. Please upgrade sklearn"
     ]
    }
   ],
   "source": [
    "from imblearn.over_sampling import SMOTE \n",
    "sm = SMOTE(random_state=12, ratio = 1.0)\n",
    "x_train_res, y_train_res = sm.fit_sample(x_train, y_train)"
   ]
  },
  {
   "cell_type": "code",
   "execution_count": 45,
   "metadata": {
    "collapsed": false
   },
   "outputs": [
    {
     "name": "stdout",
     "output_type": "stream",
     "text": [
      "Test score: 0.90\n",
      "Confusion matrix:\n",
      "[[3255   40]\n",
      " [ 336    3]]\n",
      "Classification report for KNN classifier KNeighborsClassifier(algorithm='auto', leaf_size=30, metric='minkowski',\n",
      "           metric_params=None, n_jobs=1, n_neighbors=5, p=2,\n",
      "           weights='uniform'):\n",
      "             precision    recall  f1-score   support\n",
      "\n",
      "          0       0.91      0.99      0.95      3295\n",
      "          1       0.07      0.01      0.02       339\n",
      "\n",
      "avg / total       0.83      0.90      0.86      3634\n",
      "\n",
      "\n"
     ]
    }
   ],
   "source": [
    "from sklearn import neighbors, linear_model\n",
    "knn = neighbors.KNeighborsClassifier(n_neighbors = 5)\n",
    "knn_model_1 = knn.fit(Xs_train, y_train)\n",
    "y_pred = knn_model_1.predict(Xs_test)\n",
    "print('Test score: {:.2f}'.format(knn_model_1.score(Xs_test, y_test)))\n",
    "print(\"Confusion matrix:\\n%s\" % confusion_matrix(y_test, y_pred))\n",
    "print(\"Classification report for KNN classifier %s:\\n%s\\n\"\n",
    "      % (knn_model_1, classification_report(y_test, y_pred)))"
   ]
  },
  {
   "cell_type": "code",
   "execution_count": 1,
   "metadata": {
    "collapsed": false
   },
   "outputs": [
    {
     "ename": "ImportError",
     "evalue": "A sklearn version of at least 0.19.0 is required to use imbalanced-learn. 0.18.1 was found. Please upgrade sklearn",
     "output_type": "error",
     "traceback": [
      "\u001b[0;31m---------------------------------------------------------------------------\u001b[0m",
      "\u001b[0;31mImportError\u001b[0m                               Traceback (most recent call last)",
      "\u001b[0;32m<ipython-input-1-eb7d9f4671a6>\u001b[0m in \u001b[0;36m<module>\u001b[0;34m()\u001b[0m\n\u001b[1;32m      1\u001b[0m \u001b[1;32mimport\u001b[0m \u001b[0msklearn\u001b[0m\u001b[1;33m\u001b[0m\u001b[0m\n\u001b[0;32m----> 2\u001b[0;31m \u001b[1;32mfrom\u001b[0m \u001b[0mimblearn\u001b[0m\u001b[1;33m.\u001b[0m\u001b[0mover_sampling\u001b[0m \u001b[1;32mimport\u001b[0m \u001b[0mSMOTE\u001b[0m\u001b[1;33m\u001b[0m\u001b[0m\n\u001b[0m",
      "\u001b[0;32mC:\\Users\\msnay\\Anaconda3\\lib\\site-packages\\imblearn\\__init__.py\u001b[0m in \u001b[0;36m<module>\u001b[0;34m()\u001b[0m\n\u001b[1;32m     29\u001b[0m \u001b[1;32mfrom\u001b[0m \u001b[1;33m.\u001b[0m\u001b[0mversion\u001b[0m \u001b[1;32mimport\u001b[0m \u001b[0m_check_module_dependencies\u001b[0m\u001b[1;33m,\u001b[0m \u001b[0m__version__\u001b[0m\u001b[1;33m\u001b[0m\u001b[0m\n\u001b[1;32m     30\u001b[0m \u001b[1;33m\u001b[0m\u001b[0m\n\u001b[0;32m---> 31\u001b[0;31m \u001b[0m_check_module_dependencies\u001b[0m\u001b[1;33m(\u001b[0m\u001b[1;33m)\u001b[0m\u001b[1;33m\u001b[0m\u001b[0m\n\u001b[0m\u001b[1;32m     32\u001b[0m \u001b[1;33m\u001b[0m\u001b[0m\n\u001b[1;32m     33\u001b[0m \u001b[1;31m# Boolean controlling whether the joblib caches should be\u001b[0m\u001b[1;33m\u001b[0m\u001b[1;33m\u001b[0m\u001b[0m\n",
      "\u001b[0;32mC:\\Users\\msnay\\Anaconda3\\lib\\site-packages\\imblearn\\version.py\u001b[0m in \u001b[0;36m_check_module_dependencies\u001b[0;34m(is_imbalanced_dataset_installing)\u001b[0m\n\u001b[1;32m    100\u001b[0m                 \u001b[0mmodule_name\u001b[0m\u001b[1;33m=\u001b[0m\u001b[0mmodule_name\u001b[0m\u001b[1;33m,\u001b[0m\u001b[1;33m\u001b[0m\u001b[0m\n\u001b[1;32m    101\u001b[0m                 \u001b[0mminimum_version\u001b[0m\u001b[1;33m=\u001b[0m\u001b[0mmodule_metadata\u001b[0m\u001b[1;33m[\u001b[0m\u001b[1;34m'min_version'\u001b[0m\u001b[1;33m]\u001b[0m\u001b[1;33m,\u001b[0m\u001b[1;33m\u001b[0m\u001b[0m\n\u001b[0;32m--> 102\u001b[0;31m                 install_info=module_metadata.get('install_info'))\n\u001b[0m",
      "\u001b[0;32mC:\\Users\\msnay\\Anaconda3\\lib\\site-packages\\imblearn\\version.py\u001b[0m in \u001b[0;36m_import_module_with_version_check\u001b[0;34m(module_name, minimum_version, install_info)\u001b[0m\n\u001b[1;32m     75\u001b[0m                        module_version=module_version)\n\u001b[1;32m     76\u001b[0m \u001b[1;33m\u001b[0m\u001b[0m\n\u001b[0;32m---> 77\u001b[0;31m         \u001b[1;32mraise\u001b[0m \u001b[0mImportError\u001b[0m\u001b[1;33m(\u001b[0m\u001b[0mmessage\u001b[0m\u001b[1;33m)\u001b[0m\u001b[1;33m\u001b[0m\u001b[0m\n\u001b[0m\u001b[1;32m     78\u001b[0m \u001b[1;33m\u001b[0m\u001b[0m\n\u001b[1;32m     79\u001b[0m     \u001b[1;32mreturn\u001b[0m \u001b[0mmodule\u001b[0m\u001b[1;33m\u001b[0m\u001b[0m\n",
      "\u001b[0;31mImportError\u001b[0m: A sklearn version of at least 0.19.0 is required to use imbalanced-learn. 0.18.1 was found. Please upgrade sklearn"
     ]
    }
   ],
   "source": [
    "import sklearn\n",
    "from imblearn.over_sampling import SMOTE "
   ]
  },
  {
   "cell_type": "code",
   "execution_count": null,
   "metadata": {
    "collapsed": true
   },
   "outputs": [],
   "source": []
  }
 ],
 "metadata": {
  "kernelspec": {
   "display_name": "Python 3",
   "language": "python",
   "name": "python3"
  },
  "language_info": {
   "codemirror_mode": {
    "name": "ipython",
    "version": 3
   },
   "file_extension": ".py",
   "mimetype": "text/x-python",
   "name": "python",
   "nbconvert_exporter": "python",
   "pygments_lexer": "ipython3",
   "version": "3.6.0"
  }
 },
 "nbformat": 4,
 "nbformat_minor": 2
}
