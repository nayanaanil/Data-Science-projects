{
 "cells": [
  {
   "cell_type": "markdown",
   "metadata": {},
   "source": [
    "# Predicting ETA of Taxi Cabs - Nayana Anil"
   ]
  },
  {
   "cell_type": "markdown",
   "metadata": {},
   "source": [
    "#### Problem\n",
    "Riders feel that the ETA we show them when they open the app is inaccurate. When does the ETA forecast tend to work well, and when does it break down? What is the impact of ETA inaccuracy on rider cancellations? Improve the accuracy of the existing ETA estimate so that the estimated_time_to_arrival (rider_trips) is a better prediction of the actual_time_to_arrival (driver_trips). With the accuracy improvement from your model, design an experiment to estimate the impact on the marketplace.\n",
    "<br>\n",
    "\n",
    "Note: For the purpose of this study, only trips with ETA over a 2 minute tolerance level have been considered. That is, trips where the actual time of arrival was -  later than the ETA by 2 or more minutes -  earlier than the ETA by 2 or more minutes.<br>\n",
    "The value of delta ETA above 2 min ( _abs(Actual time of Arrival - Estimated Time of Arrival) > 2_ ) is commonly used. For readability, we will call this **DE2**.\n",
    "<br>\n",
    "## When does the ETA forecast tend to work well, and when does it break down?\n",
    "We look at the relationship of ETA with other trip data to find statistical patterns.\n",
    "\n",
    "### Spatial Stats\n",
    "Observations: \n",
    " -  Number of trips with DE2 is unevenly distributed, with Chelsea Court having most number of DE2 trips. However, this is in proportion to the total number of trips per geo.\n",
    " -  Mean DE2 is negative for all locations, \n",
    " \n",
    "Inference:\n",
    " -  Majority of misestimated trips arrived earlier than predicted.\n",
    "\n",
    "![title](StatsETA.png)\n",
    "\n",
    "### Temporal Stats\n",
    "Observations:\n",
    " -  Average DE2 peaks on Thursdays, across all locations.\n",
    " -  Average DE2 is positive on Thursdays, and negative on all other days. \n",
    " \n",
    "Inference:\n",
    "  -  On average, cabs arrive early on all days except Thursdays.\n",
    "  \n",
    "![title](Temporal Stats.png)\n",
    "\n",
    "### Temporal and Spatial Stats\n",
    "Observations:\n",
    " -  The number of trips above tolerance are highest on Saturdays, for all locations. But they have lowest standard deviation, and negative average DE2.\n",
    " \n",
    "Inference:\n",
    " -  Even though a large number of trips were outside tolerance level on Saturdays, they majorly arrived early than late.\n",
    "\n",
    "![title](T&SStats2.png)\n",
    "\n",
    "![title](T&SStats1.png)\n",
    "\n",
    "### Driver Lifetime Completed trips\n",
    "Observations:\n",
    " -  The distribution is normal around the 0 delta ETA line. Also, the distribution is symmetric along the 0 delta ETA line. Interestingly, the same holds good for all the locations.\n",
    " -  As driver's lifetime fares increase, the DE2 decreases gradually, indicating a negative correlation. \n",
    " \n",
    "Inference:\n",
    " -  The more trips the driver completes, the more likely of adhering to ETA.\n",
    " \n",
    " \n",
    "![title](LifetimeCompletedTrips.png)\n",
    "\n",
    "### DriverLifetime Fares\n",
    "\n",
    "Observations:\n",
    " -  The distribution is normal around the 0 delta ETA line. Also, the distribution is symmetric along the 0 delta ETA line. Interestingly, the same holds good for all the locations.\n",
    " -  As driver's lifetime fares increase, the DE2 decreases drastically, indicating a negative correlation. \n",
    " \n",
    "Inference:\n",
    " -  The number of trips that are late and number of trips early are almost the same given a driver's lifetime fare. Also, the more a driver earns, more likely of adhering to ETA.\n",
    "![title](LifetimeFares.png)\n",
    "\n",
    "### Driver Lifetime Rating\n",
    "\n",
    "Observations:\n",
    " -  Majority of DE2 deviations are clustered between ratings of 4.4 and 5.0. \n",
    " -  Below a rating of 4.4, deviation of DE2 is small. Between ratings 4.4 and 4.8, DE2 deviates drastically, more so in positive direction than negative. For ratings above 4.8, we see a drastic reduction in DE2.\n",
    " -  Deviations in DE2 are almost identical in positive and negative direction \n",
    " \n",
    "Inference:\n",
    " -  It seems as though, drivers with a low rating adhere to the ETA to get their ratings up. Drivers with ratings between 4.4 and 4.8 seem to not adhere to ETA as well. However, drivers with a high rating, have very few ETA deviations, which probably explains the high rating\n",
    "![title](LifetimeRating.png)\n",
    "\n",
    "### Surge Multiplier\n",
    "\n",
    "Observations:\n",
    " -  Lower the surge multiplier, more the deviation in DE2. Higher surge multipliers have lesser deviation. \n",
    " \n",
    "![title](SurgeMultiplier.png)\n",
    "\n",
    "\n",
    "Observations:\n",
    " -  Surge multiplier 1.0 sees the maximum number of trips with DE2. Following that is a drastic fall, with surge multipliers > 1.0 seeing a gradual decrese in total trips with DE2, ultimately stagnating to one or fewer trips at 3.4 surge.\n",
    "Inference:\n",
    " -  Low surge multipliers probably attract larger number of trips and hence more chance of deviating from ETA.\n",
    "![title](SurgeMultiCount.png)\n",
    "\n",
    "### Trip price pre discount\n",
    "\n",
    "Observations:\n",
    " -  As trip price increases, DE2 decreases. Trips costing less than $10 see the most deviation in ETA.\n",
    "![title](TripPricePreDiscount.png)\n",
    "\n",
    "## What is the impact of ETA inaccuracy on rider cancellations?\n",
    "\n",
    "Below is a graph that shows trip status vs the number of trips of each status.\n",
    "![title](Cancelled ETA2.png)\n",
    "\n",
    "From the graph, we see that \n",
    " -  Total trips = 57577,  Total cancelled trips = 5598\n",
    "The percentage is calculated below.\n"
   ]
  },
  {
   "cell_type": "code",
   "execution_count": 17,
   "metadata": {
    "collapsed": false
   },
   "outputs": [
    {
     "name": "stdout",
     "output_type": "stream",
     "text": [
      "Percentage of total cancelled trips: 9.72 %\n"
     ]
    }
   ],
   "source": [
    "#Total Trips\n",
    "tot_trips = 57577\n",
    "tot_cancelled = 5598\n",
    "tot_cancel_percent = tot_cancelled/tot_trips * 100\n",
    "print(\"Percentage of total cancelled trips: %.2f %%\"\n",
    "      % tot_cancel_percent)"
   ]
  },
  {
   "cell_type": "markdown",
   "metadata": {},
   "source": [
    " Now,\n",
    " -  Total trips within tolerance of 2 min = 44834, Total cancelled trips of these =  1422\n",
    " -  Total trips with DE2 = 6509, Total cancelled trips of these = 389\n"
   ]
  },
  {
   "cell_type": "code",
   "execution_count": 22,
   "metadata": {
    "collapsed": false
   },
   "outputs": [
    {
     "name": "stdout",
     "output_type": "stream",
     "text": [
      "Percentage of total cancelled trips within tolerance of 2 min: 3.17 %\n",
      "Percentage of total cancelled trips above tolerance of 2 min: 5.98 %\n"
     ]
    }
   ],
   "source": [
    "#Trips within tolerance of 2 min\n",
    "tot_trips = 44834\n",
    "tot_cancelled = 1422\n",
    "tot_cancel_percent = tot_cancelled/tot_trips * 100\n",
    "print(\"Percentage of total cancelled trips within tolerance of 2 min: %.2f %%\"\n",
    "      % tot_cancel_percent)\n",
    "\n",
    "#Trips above tolerance of 2 min\n",
    "tot_trips = 6509\n",
    "tot_cancelled = 389\n",
    "tot_cancel_percent = tot_cancelled/tot_trips * 100\n",
    "print(\"Percentage of total cancelled trips above tolerance of 2 min: %.2f %%\"\n",
    "      % tot_cancel_percent)"
   ]
  },
  {
   "cell_type": "markdown",
   "metadata": {},
   "source": [
    "Wrongly estimated ETA increased the number of cancellations by more than 2% ! However, these numbers correspond to rides that are above a 2 minute tolerance. Below is a graph showing the trip status vs the number of trips of each status, now with tolerance increased to 5 min.\n",
    "\n",
    "![title](Cancelled ETA5.png)\n",
    "\n",
    "Now,\n",
    " -  Total trips within tolerance of 5 min = 50692, Total cancelled trips of these = 1735\n",
    " -  Total trips with DE5 = 651, Total cancelled trips of these = 76"
   ]
  },
  {
   "cell_type": "code",
   "execution_count": 21,
   "metadata": {
    "collapsed": false
   },
   "outputs": [
    {
     "name": "stdout",
     "output_type": "stream",
     "text": [
      "Percentage of total cancelled trips within tolerance of 5 min: 3.42 %\n",
      "Percentage of total cancelled trips above tolerance of 5 min: 11.67 %\n"
     ]
    }
   ],
   "source": [
    "#Trips within tolerance of 5 min\n",
    "tot_trips = 50692\n",
    "tot_cancelled = 1735\n",
    "tot_cancel_percent = tot_cancelled/tot_trips * 100\n",
    "print(\"Percentage of total cancelled trips within tolerance of 5 min: %.2f %%\"\n",
    "      % tot_cancel_percent)\n",
    "\n",
    "#Trips above tolerance of 5 min\n",
    "tot_trips = 651\n",
    "tot_cancelled = 76\n",
    "tot_cancel_percent = tot_cancelled/tot_trips * 100\n",
    "print(\"Percentage of total cancelled trips above tolerance of 5 min: %.2f %%\"\n",
    "      % tot_cancel_percent)"
   ]
  },
  {
   "cell_type": "markdown",
   "metadata": {},
   "source": [
    "Cancellations increase from 3.5% to 11.5%, that's an increase of 8% ! That's a pretty major impact that ETA has on cancellations.\n",
    "\n",
    "Having explored the data, let's try to use the information to predict ETA accurately.\n",
    "Data from different tables was joined using Tableau. As seen in graphs above, the 'DeltaETA' column has been generated for use. \n",
    "DeltaETA = Actual Time To Arrival - Estimated Time To Arrival"
   ]
  },
  {
   "cell_type": "code",
   "execution_count": 73,
   "metadata": {
    "collapsed": false
   },
   "outputs": [
    {
     "name": "stdout",
     "output_type": "stream",
     "text": [
      "Index(['DeltaETA', 'Number of Records', 'Actual Time To Arrival',\n",
      "       'Driver Payout', 'Driver Id (Driver!Data)', 'Driver Id',\n",
      "       'End Geo (Rider!Trips)', 'End Geo', 'Estimated Time To Arrival',\n",
      "       'First Completed Trip (Rider!Data)', 'First Completed Trip',\n",
      "       'First Trip City Id', 'Lifetime Completed Trips', 'Lifetime Fares',\n",
      "       'Lifetime Payments', 'Lifetime Rating', 'Lifetime Trips',\n",
      "       'Request Time (Rider!Trips)', 'Request Time', 'Rider Id (Rider!Data)',\n",
      "       'Rider Id', 'Rider Payment', 'Start Geo (Rider!Trips)', 'Start Geo',\n",
      "       'Surge Multiplier (Rider!Trips)', 'Surge Multiplier',\n",
      "       'Trip Id (Rider!Trips)', 'Trip Id', 'Trip Price Pre Discount',\n",
      "       'Trip Status (Rider!Trips)', 'Trip Status'],\n",
      "      dtype='object')\n"
     ]
    }
   ],
   "source": [
    "#Import relevant libraries\n",
    "import pandas as pd\n",
    "import numpy as np\n",
    "import matplotlib.pyplot as plt\n",
    "import datetime as dt\n",
    "from sklearn.linear_model import LinearRegression\n",
    "from sklearn.metrics import mean_squared_error, r2_score\n",
    "from sklearn import model_selection\n",
    "from sklearn.ensemble import RandomForestRegressor\n",
    "\n",
    "#Get the dataset\n",
    "df_temp = pd.read_excel('21Nov.xlsx')\n",
    "print(df_temp.columns)"
   ]
  },
  {
   "cell_type": "code",
   "execution_count": 74,
   "metadata": {
    "collapsed": false
   },
   "outputs": [
    {
     "name": "stdout",
     "output_type": "stream",
     "text": [
      "    DeltaETA  Number of Records  Actual Time To Arrival  Driver Payout  \\\n",
      "44  2.833333                  1                4.483333         6.4960   \n",
      "55  2.983333                  1                9.083333         3.0208   \n",
      "57  2.733333                  1                6.266667         5.2032   \n",
      "65  2.166667                  1                6.716667         4.6144   \n",
      "78  2.366667                  1                6.650000         2.6176   \n",
      "\n",
      "   Driver Id (Driver!Data)  Driver Id End Geo (Rider!Trips)        End Geo  \\\n",
      "44               435c-49a9  435c-49a9         Chelsea Court  Chelsea Court   \n",
      "55               41a9-7ef0  41a9-7ef0           Daisy Drive    Daisy Drive   \n",
      "57               4e39-92e4  4e39-92e4            Allen Abby     Allen Abby   \n",
      "65               439a-e8ea  439a-e8ea         Chelsea Court  Chelsea Court   \n",
      "78               4ccf-2716  4ccf-2716         Chelsea Court  Chelsea Court   \n",
      "\n",
      "    Estimated Time To Arrival First Completed Trip (Rider!Data)     ...      \\\n",
      "44                   1.650000               2011-03-10 19:40:55     ...       \n",
      "55                   6.100000               2008-09-04 22:46:50     ...       \n",
      "57                   3.533333               2010-10-12 22:55:46     ...       \n",
      "65                   4.550000               2007-05-13 00:03:46     ...       \n",
      "78                   4.283333               2011-03-27 00:57:39     ...       \n",
      "\n",
      "   Rider Payment  Start Geo (Rider!Trips)      Start Geo  \\\n",
      "44        7.3080            Chelsea Court  Chelsea Court   \n",
      "55        3.7760            Chelsea Court  Chelsea Court   \n",
      "57        6.5040               Allen Abby     Allen Abby   \n",
      "65        5.1912            Chelsea Court  Chelsea Court   \n",
      "78        3.2720            Chelsea Court  Chelsea Court   \n",
      "\n",
      "    Surge Multiplier (Rider!Trips)  Surge Multiplier  Trip Id (Rider!Trips)  \\\n",
      "44                             1.7               1.7              8b4d-43b8   \n",
      "55                             1.0               1.0              9648-93e3   \n",
      "57                             1.3               1.3              a480-1d32   \n",
      "65                             1.0               1.0              ad56-3279   \n",
      "78                             1.0               1.0              ad33-a5b2   \n",
      "\n",
      "      Trip Id Trip Price Pre Discount Trip Status (Rider!Trips) Trip Status  \n",
      "44  8b4d-43b8                   8.120                 completed   completed  \n",
      "55  9648-93e3                   3.776                 completed   completed  \n",
      "57  a480-1d32                   6.504                 completed   completed  \n",
      "65  ad56-3279                   5.768                 completed   completed  \n",
      "78  ad33-a5b2                   3.272                 completed   completed  \n",
      "\n",
      "[5 rows x 31 columns]\n"
     ]
    }
   ],
   "source": [
    "# To allow better prediction, we're removing any outliers that may skew prediction.\n",
    "# Here outliers are DeltaETA above 15 min, and DeltaETA below -10 min.\n",
    "# Also, the assumption is that trips with DeltaETA above 2 minutes of tolerance (in both +ve and -ve) are the real targets\n",
    "# and only those have been considered.\n",
    "df_temp_late = df_temp[(df_temp['DeltaETA'] > 2) & (df_temp['DeltaETA'] < 15)]\n",
    "df_temp_early = df_temp[(df_temp['DeltaETA'] < (-2)) & (df_temp['DeltaETA'] > (-10))]\n",
    "df = df_temp_late.append(df_temp_early)\n",
    "print(df.head())"
   ]
  },
  {
   "cell_type": "code",
   "execution_count": 75,
   "metadata": {
    "collapsed": false
   },
   "outputs": [
    {
     "name": "stdout",
     "output_type": "stream",
     "text": [
      "<class 'pandas.core.frame.DataFrame'>\n",
      "Int64Index: 6449 entries, 1251 to 2431\n",
      "Data columns (total 10 columns):\n",
      "Lifetime Completed Trips     6449 non-null int64\n",
      "Lifetime Fares               6449 non-null float64\n",
      "Lifetime Rating              6449 non-null float64\n",
      "Request Time                 6449 non-null datetime64[ns]\n",
      "Start Geo                    6449 non-null object\n",
      "Surge Multiplier             6449 non-null float64\n",
      "Trip Price Pre Discount      6449 non-null float64\n",
      "Trip Status                  6449 non-null object\n",
      "Estimated Time To Arrival    6449 non-null float64\n",
      "Actual Time To Arrival       6449 non-null float64\n",
      "dtypes: datetime64[ns](1), float64(6), int64(1), object(2)\n",
      "memory usage: 554.2+ KB\n",
      "None\n"
     ]
    }
   ],
   "source": [
    "# The model cannot be built on data that is completely unrelated to the target, or data that sees into the future. To \n",
    "# avoid this we only select feature columns which have relevance to our end goal.\n",
    "# Discarded columns: DeltaETA(future-seeing), Driver Payout(future-seeing), DriverID(irrelevant), End Geo(irrelevant),\n",
    "# Estimated Time to arrival(what needs to be predicted), First Completed Trip(irrelevant), Rider Payment(future-seeing),\n",
    "# Trip Id(irrelevant), Trip status(future-seeing)\n",
    "\n",
    "# Note: Columns 'Trip Status' and 'Estimated Time To Arrival' are needed for later use. I retain them here,\n",
    "# to avoid redundant processing. However they will NOT be used to train the model.\n",
    "df = df[['Lifetime Completed Trips', 'Lifetime Fares', 'Lifetime Rating', 'Request Time', 'Start Geo', 'Surge Multiplier', 'Trip Price Pre Discount','Trip Status', 'Estimated Time To Arrival','Actual Time To Arrival']]\n",
    "\n",
    "#remove values with NaN\n",
    "df.dropna(inplace = True)\n",
    "df = df.reset_index(drop=True)\n",
    "\n",
    "#shuffle data to ensure no over/underfitting\n",
    "from sklearn.utils import shuffle\n",
    "df = shuffle(df)\n",
    "print(df.info())"
   ]
  },
  {
   "cell_type": "code",
   "execution_count": 76,
   "metadata": {
    "collapsed": false
   },
   "outputs": [
    {
     "name": "stdout",
     "output_type": "stream",
     "text": [
      "      Lifetime Completed Trips  Lifetime Fares  Lifetime Rating  \\\n",
      "1251                      4415       45292.824         4.697238   \n",
      "5656                      4818       53643.984         4.691003   \n",
      "3606                      5544       64040.784         4.741105   \n",
      "4846                      5544       64040.784         4.741105   \n",
      "2278                      9215       99047.352         4.780362   \n",
      "2619                      2794       95554.104         4.829098   \n",
      "5692                      5478       52608.344         4.792280   \n",
      "2797                        34         333.408         5.000000   \n",
      "1466                      2653       27699.000         4.772064   \n",
      "3434                       705        6253.632         4.918635   \n",
      "\n",
      "          Start Geo  Surge Multiplier  Trip Price Pre Discount Trip Status  \\\n",
      "1251  Chelsea Court               1.0                    5.296   completed   \n",
      "5656     Allen Abby               1.0                    8.608   completed   \n",
      "3606  Chelsea Court               1.0                   10.144   completed   \n",
      "4846  Chelsea Court               2.3                   13.536   completed   \n",
      "2278  Chelsea Court               1.0                    5.808   completed   \n",
      "2619  Chelsea Court               1.0                   12.120   completed   \n",
      "5692  Chelsea Court               1.6                    7.160   completed   \n",
      "2797    Daisy Drive               1.0                    5.320   completed   \n",
      "1466  Chelsea Court               1.6                   13.208   completed   \n",
      "3434  Chelsea Court               1.7                   11.344   completed   \n",
      "\n",
      "      Estimated Time To Arrival  Actual Time To Arrival  hour    weekday  \n",
      "1251                   1.350000                5.116667    16     Friday  \n",
      "5656                   7.266667                5.016667    19     Friday  \n",
      "3606                   4.966667                2.033333     9     Friday  \n",
      "4846                   2.800000                0.783333    11   Thursday  \n",
      "2278                   2.783333                4.950000    23     Friday  \n",
      "2619                   3.966667                0.783333    18  Wednesday  \n",
      "5692                   6.316667                4.166667     8   Saturday  \n",
      "2797                   3.850000                1.483333    23   Thursday  \n",
      "1466                   4.616667                9.016667    17    Tuesday  \n",
      "3434                   3.683333                0.716667    16   Thursday  \n"
     ]
    }
   ],
   "source": [
    "# The data contains 'Request Time' feature which is a datetime object, and needs to be parsed into relevant features. We extract\n",
    "# hour and day of the week, and drop the original column\n",
    "df['hour'] = [df['Request Time'][i].hour for i in range(len(df['Request Time']))] \n",
    "df['weekday'] = df[['Request Time']].apply(lambda x: dt.datetime.strftime(x['Request Time'], '%A'), axis=1)\n",
    "df.drop(['Request Time'], axis=1, inplace=True)\n",
    "print(df.head(10))"
   ]
  },
  {
   "cell_type": "code",
   "execution_count": 77,
   "metadata": {
    "collapsed": false
   },
   "outputs": [
    {
     "name": "stdout",
     "output_type": "stream",
     "text": [
      "      Lifetime Completed Trips  Lifetime Fares  Lifetime Rating  \\\n",
      "1251                      4415       45292.824         4.697238   \n",
      "5656                      4818       53643.984         4.691003   \n",
      "3606                      5544       64040.784         4.741105   \n",
      "4846                      5544       64040.784         4.741105   \n",
      "2278                      9215       99047.352         4.780362   \n",
      "\n",
      "      Surge Multiplier  Trip Price Pre Discount Trip Status  \\\n",
      "1251               1.0                    5.296   completed   \n",
      "5656               1.0                    8.608   completed   \n",
      "3606               1.0                   10.144   completed   \n",
      "4846               2.3                   13.536   completed   \n",
      "2278               1.0                    5.808   completed   \n",
      "\n",
      "      Estimated Time To Arrival  Actual Time To Arrival  hour  \\\n",
      "1251                   1.350000                5.116667    16   \n",
      "5656                   7.266667                5.016667    19   \n",
      "3606                   4.966667                2.033333     9   \n",
      "4846                   2.800000                0.783333    11   \n",
      "2278                   2.783333                4.950000    23   \n",
      "\n",
      "      Start Geo_Allen Abby  Start Geo_Blair Bend  Start Geo_Chelsea Court  \\\n",
      "1251                     0                     0                        1   \n",
      "5656                     1                     0                        0   \n",
      "3606                     0                     0                        1   \n",
      "4846                     0                     0                        1   \n",
      "2278                     0                     0                        1   \n",
      "\n",
      "      weekday_Friday  weekday_Monday  weekday_Saturday  weekday_Sunday  \\\n",
      "1251               1               0                 0               0   \n",
      "5656               1               0                 0               0   \n",
      "3606               1               0                 0               0   \n",
      "4846               0               0                 0               0   \n",
      "2278               1               0                 0               0   \n",
      "\n",
      "      weekday_Thursday  weekday_Tuesday  \n",
      "1251                 0                0  \n",
      "5656                 0                0  \n",
      "3606                 0                0  \n",
      "4846                 1                0  \n",
      "2278                 0                0  \n"
     ]
    }
   ],
   "source": [
    "# The data now contains two categorical variables, 'Start Geo' and 'weekday'. They need to be converted into equivalent numeric\n",
    "# features to enable accurate predictions. We do this using one hot encoding.\n",
    "one_hot = pd.get_dummies(df[['Start Geo']])\n",
    "df = df.drop('Start Geo', axis=1)\n",
    "df = df.join(one_hot)\n",
    "df.drop('Start Geo_Daisy Drive', axis=1, inplace=True)\n",
    "\n",
    "one_hot = pd.get_dummies(df[['weekday']])\n",
    "df = df.drop('weekday', axis=1)\n",
    "df = df.join(one_hot)\n",
    "df.drop('weekday_Wednesday', axis=1, inplace=True)\n",
    "\n",
    "print(df.head())"
   ]
  },
  {
   "cell_type": "code",
   "execution_count": 78,
   "metadata": {
    "collapsed": false
   },
   "outputs": [
    {
     "name": "stdout",
     "output_type": "stream",
     "text": [
      "[  4.41500000e+03   4.52928240e+04   4.69723832e+00   1.00000000e+00\n",
      "   5.29600000e+00   1.60000000e+01   0.00000000e+00   0.00000000e+00\n",
      "   1.00000000e+00   1.00000000e+00   0.00000000e+00   0.00000000e+00\n",
      "   0.00000000e+00   0.00000000e+00   0.00000000e+00]\n",
      "(6449, 15)\n",
      "(6449,)\n",
      "(6449,)\n",
      "5159\n"
     ]
    }
   ],
   "source": [
    "# In order to compare performance of model built here, with the given ETA predictions, we will keep aside the values \n",
    "# of the 'Estimated Time To Arrival' and 'Trip Status' columns. \n",
    "\n",
    "# The data is split into a training set and a testing set, with a 80/20 split ratio\n",
    "\n",
    "uber_eta = df['Estimated Time To Arrival'].values\n",
    "dwnld_df = df['Trip Status'].values\n",
    "y = df['Actual Time To Arrival'].values\n",
    "\n",
    "X = df.drop(['Estimated Time To Arrival', 'Trip Status', 'Actual Time To Arrival'], axis=1).values\n",
    "\n",
    "trainset = round(0.8*len(X))\n",
    "print(trainset)\n",
    "\n",
    "X_train = X[:trainset, :]\n",
    "y_train = y[:trainset]\n",
    "\n",
    "X_test = X[trainset: , :]\n",
    "y_test = y[trainset:]\n",
    "\n",
    "uber_eta_test = uber_eta[trainset:]\n",
    "dwnld_df_test = dwnld_df[trainset: ]"
   ]
  },
  {
   "cell_type": "code",
   "execution_count": 96,
   "metadata": {
    "collapsed": false
   },
   "outputs": [
    {
     "name": "stdout",
     "output_type": "stream",
     "text": [
      "Mean squared error: 12.27\n",
      "Mean squared error uber to actual: 13.05\n"
     ]
    }
   ],
   "source": [
    "# Applying RandomForest regression model\n",
    "# Justification: The dataset has complex underlying relationships that need to be addressed. Hardly any linearity\n",
    "# is present. Very robust on small datasets.\n",
    "regressor = RandomForestRegressor(n_estimators=10, random_state=0)\n",
    "regressor.fit(X_train, y_train)\n",
    "y_pred = regressor.predict(X_test)\n",
    "print(\"Mean squared error: %.2f\"\n",
    "      % mean_squared_error(y_test, y_pred))\n",
    "\n",
    "print(\"Mean squared error uber to actual: %.2f\"\n",
    "      % mean_squared_error(y_test, uber_eta_test))\n"
   ]
  },
  {
   "cell_type": "markdown",
   "metadata": {},
   "source": [
    "We see the model built here has a mean square error of 12.27 percent; performs better than the given ETA weighing in at a higher MSE of 13.05. Accuracy has been improved.\n",
    "\n",
    "To find the impact of this increase in accuracy, we download the results to a CSV file"
   ]
  },
  {
   "cell_type": "code",
   "execution_count": 89,
   "metadata": {
    "collapsed": false
   },
   "outputs": [
    {
     "name": "stdout",
     "output_type": "stream",
     "text": [
      "   Actual Time to Arrival  Estimated Time of Arrival     Trip Status\n",
      "0                0.783333                   4.606667       completed\n",
      "1                1.866667                   4.416667       completed\n",
      "2                2.566667                   1.535000       completed\n",
      "3                6.000000                   5.218333       completed\n",
      "4                3.983333                   2.938333  rider_canceled\n"
     ]
    }
   ],
   "source": [
    "# In order to determine the impact of the new model, we use the Trip status values of predicted trips\n",
    "dowfle = pd.DataFrame({'Trip Status':dwnld_df_test, 'Estimated Time of Arrival':y_pred, 'Actual Time to Arrival':y_test})\n",
    "print(dowfle.head())\n",
    "dowfle.to_csv('dowfle')\n"
   ]
  },
  {
   "cell_type": "markdown",
   "metadata": {},
   "source": [
    "Plotting the Trip Status vs Number of trips with ETA above tolerance graph as we did in our statistical analysis, we find that there is an improvement in the number of cancelled trips, shown calculated below.\n",
    "\n",
    "![title](NewCancelled.png)"
   ]
  },
  {
   "cell_type": "code",
   "execution_count": 94,
   "metadata": {
    "collapsed": false
   },
   "outputs": [
    {
     "name": "stdout",
     "output_type": "stream",
     "text": [
      "Percentage of total cancelled trips above tolerance of 2 min, with new ETAs: 5.88 %\n"
     ]
    }
   ],
   "source": [
    "#Trips above tolerance of 2 min, with new predicted ETA\n",
    "tot_trips = 1290\n",
    "tot_cancelled = 76\n",
    "tot_cancel_percent = tot_cancelled/tot_trips * 100\n",
    "print(\"Percentage of total cancelled trips above tolerance of 2 min, with new ETAs: %.2f %%\"\n",
    "      % tot_cancel_percent)\n"
   ]
  },
  {
   "cell_type": "markdown",
   "metadata": {},
   "source": [
    "Previously, the percentage was 5.98%. This graph seems to suggest an improvement of 0.1%.\n",
    "\n",
    "This means,\n",
    "With the previosuly predicted ETA, 598 people for every 10,000 people would cancel their rides if ETA was above tolerance level.\n",
    "With the new ETAs, 588 people for every 10,000 people will cancel their rides, under same conditions.\n",
    "\n",
    "The new ETA avoids 10 people for every 10,000 people from cancelling their rides.\n",
    "\n",
    "To test this in the field, we conduct an experiment. Our hypothesis is\n",
    "**The new ETA prediction will decrease rider cancellation by 0.1%**\n",
    "\n",
    "1. The null hypothesis is the new ETA prediction will not decrease rider cancellation by 0.1%.\n",
    "2. We use the Pearson's correlation coefficient to find correlation between ETA and rider cancellation, and a significance level of 0.05. \n",
    "3. Collect the data and calculate p-value. \n",
    "4. If p-value is less than 0.05, the test is significant and the null hypothesis can be rejected.\n"
   ]
  }
 ],
 "metadata": {
  "kernelspec": {
   "display_name": "Python 3",
   "language": "python",
   "name": "python3"
  },
  "language_info": {
   "codemirror_mode": {
    "name": "ipython",
    "version": 3
   },
   "file_extension": ".py",
   "mimetype": "text/x-python",
   "name": "python",
   "nbconvert_exporter": "python",
   "pygments_lexer": "ipython3",
   "version": "3.6.0"
  }
 },
 "nbformat": 4,
 "nbformat_minor": 2
}
